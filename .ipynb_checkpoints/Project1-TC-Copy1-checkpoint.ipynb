{
 "cells": [
  {
   "cell_type": "code",
<<<<<<< HEAD
   "execution_count": 37,
=======
   "execution_count": 31,
>>>>>>> andriani
   "metadata": {},
   "outputs": [
    {
     "name": "stdout",
     "output_type": "stream",
     "text": [
      "Requirement already satisfied: bioinfokit in c:\\users\\trist\\anaconda3\\lib\\site-packages (2.0.8)\n",
<<<<<<< HEAD
      "Requirement already satisfied: textwrap3 in c:\\users\\trist\\anaconda3\\lib\\site-packages (from bioinfokit) (0.9.2)\n",
      "Requirement already satisfied: adjustText in c:\\users\\trist\\anaconda3\\lib\\site-packages (from bioinfokit) (0.7.3)\n",
      "Requirement already satisfied: tabulate in c:\\users\\trist\\anaconda3\\lib\\site-packages (from bioinfokit) (0.8.9)\n",
      "Requirement already satisfied: matplotlib in c:\\users\\trist\\anaconda3\\lib\\site-packages (from bioinfokit) (3.4.3)\n",
      "Requirement already satisfied: pandas in c:\\users\\trist\\anaconda3\\lib\\site-packages (from bioinfokit) (1.3.4)\n",
      "Requirement already satisfied: statsmodels in c:\\users\\trist\\anaconda3\\lib\\site-packages (from bioinfokit) (0.12.2)\n",
      "Requirement already satisfied: seaborn in c:\\users\\trist\\anaconda3\\lib\\site-packages (from bioinfokit) (0.11.2)\n",
      "Requirement already satisfied: scikit-learn in c:\\users\\trist\\anaconda3\\lib\\site-packages (from bioinfokit) (0.24.2)\n",
      "Requirement already satisfied: numpy in c:\\users\\trist\\anaconda3\\lib\\site-packages (from bioinfokit) (1.20.3)\n",
      "Requirement already satisfied: matplotlib-venn in c:\\users\\trist\\anaconda3\\lib\\site-packages (from bioinfokit) (0.11.6)\n",
      "Requirement already satisfied: scipy in c:\\users\\trist\\anaconda3\\lib\\site-packages (from bioinfokit) (1.7.1)\n",
      "Requirement already satisfied: pillow>=6.2.0 in c:\\users\\trist\\anaconda3\\lib\\site-packages (from matplotlib->bioinfokit) (8.4.0)\n",
      "Requirement already satisfied: cycler>=0.10 in c:\\users\\trist\\anaconda3\\lib\\site-packages (from matplotlib->bioinfokit) (0.10.0)\n",
      "Requirement already satisfied: kiwisolver>=1.0.1 in c:\\users\\trist\\anaconda3\\lib\\site-packages (from matplotlib->bioinfokit) (1.3.1)\n",
      "Requirement already satisfied: pyparsing>=2.2.1 in c:\\users\\trist\\anaconda3\\lib\\site-packages (from matplotlib->bioinfokit) (3.0.4)\n",
      "Requirement already satisfied: python-dateutil>=2.7 in c:\\users\\trist\\anaconda3\\lib\\site-packages (from matplotlib->bioinfokit) (2.8.2)\n",
      "Requirement already satisfied: six in c:\\users\\trist\\anaconda3\\lib\\site-packages (from cycler>=0.10->matplotlib->bioinfokit) (1.16.0)\n",
      "Requirement already satisfied: pytz>=2017.3 in c:\\users\\trist\\anaconda3\\lib\\site-packages (from pandas->bioinfokit) (2021.3)\n",
      "Requirement already satisfied: threadpoolctl>=2.0.0 in c:\\users\\trist\\anaconda3\\lib\\site-packages (from scikit-learn->bioinfokit) (2.2.0)\n",
      "Requirement already satisfied: joblib>=0.11 in c:\\users\\trist\\anaconda3\\lib\\site-packages (from scikit-learn->bioinfokit) (1.1.0)\n",
=======
      "Requirement already satisfied: numpy in c:\\users\\trist\\anaconda3\\lib\\site-packages (from bioinfokit) (1.20.3)\n",
      "Requirement already satisfied: scikit-learn in c:\\users\\trist\\anaconda3\\lib\\site-packages (from bioinfokit) (0.24.2)\n",
      "Requirement already satisfied: matplotlib-venn in c:\\users\\trist\\anaconda3\\lib\\site-packages (from bioinfokit) (0.11.6)\n",
      "Requirement already satisfied: textwrap3 in c:\\users\\trist\\anaconda3\\lib\\site-packages (from bioinfokit) (0.9.2)\n",
      "Requirement already satisfied: adjustText in c:\\users\\trist\\anaconda3\\lib\\site-packages (from bioinfokit) (0.7.3)\n",
      "Requirement already satisfied: pandas in c:\\users\\trist\\anaconda3\\lib\\site-packages (from bioinfokit) (1.3.4)\n",
      "Requirement already satisfied: seaborn in c:\\users\\trist\\anaconda3\\lib\\site-packages (from bioinfokit) (0.11.2)\n",
      "Requirement already satisfied: tabulate in c:\\users\\trist\\anaconda3\\lib\\site-packages (from bioinfokit) (0.8.9)\n",
      "Requirement already satisfied: scipy in c:\\users\\trist\\anaconda3\\lib\\site-packages (from bioinfokit) (1.7.1)\n",
      "Requirement already satisfied: matplotlib in c:\\users\\trist\\anaconda3\\lib\\site-packages (from bioinfokit) (3.4.3)\n",
      "Requirement already satisfied: statsmodels in c:\\users\\trist\\anaconda3\\lib\\site-packages (from bioinfokit) (0.12.2)\n",
      "Requirement already satisfied: python-dateutil>=2.7 in c:\\users\\trist\\anaconda3\\lib\\site-packages (from matplotlib->bioinfokit) (2.8.2)\n",
      "Requirement already satisfied: pyparsing>=2.2.1 in c:\\users\\trist\\anaconda3\\lib\\site-packages (from matplotlib->bioinfokit) (3.0.4)\n",
      "Requirement already satisfied: kiwisolver>=1.0.1 in c:\\users\\trist\\anaconda3\\lib\\site-packages (from matplotlib->bioinfokit) (1.3.1)\n",
      "Requirement already satisfied: pillow>=6.2.0 in c:\\users\\trist\\anaconda3\\lib\\site-packages (from matplotlib->bioinfokit) (8.4.0)\n",
      "Requirement already satisfied: cycler>=0.10 in c:\\users\\trist\\anaconda3\\lib\\site-packages (from matplotlib->bioinfokit) (0.10.0)\n",
      "Requirement already satisfied: six in c:\\users\\trist\\anaconda3\\lib\\site-packages (from cycler>=0.10->matplotlib->bioinfokit) (1.16.0)\n",
      "Requirement already satisfied: pytz>=2017.3 in c:\\users\\trist\\anaconda3\\lib\\site-packages (from pandas->bioinfokit) (2021.3)\n",
      "Requirement already satisfied: joblib>=0.11 in c:\\users\\trist\\anaconda3\\lib\\site-packages (from scikit-learn->bioinfokit) (1.1.0)\n",
      "Requirement already satisfied: threadpoolctl>=2.0.0 in c:\\users\\trist\\anaconda3\\lib\\site-packages (from scikit-learn->bioinfokit) (2.2.0)\n",
>>>>>>> andriani
      "Requirement already satisfied: patsy>=0.5 in c:\\users\\trist\\anaconda3\\lib\\site-packages (from statsmodels->bioinfokit) (0.5.2)\n"
     ]
    }
   ],
   "source": [
    "# import dependencies\n",
    "import pandas as pd\n",
    "import matplotlib.pyplot as plt\n",
    "import os \n",
<<<<<<< HEAD
    "import numpy as np\n",
=======
    "\n",
>>>>>>> andriani
    "!pip install bioinfokit\n",
    "from bioinfokit.analys import stat"
   ]
  },
  {
   "cell_type": "code",
   "execution_count": 2,
   "metadata": {},
   "outputs": [
    {
     "data": {
      "text/html": [
       "<div>\n",
       "<style scoped>\n",
       "    .dataframe tbody tr th:only-of-type {\n",
       "        vertical-align: middle;\n",
       "    }\n",
       "\n",
       "    .dataframe tbody tr th {\n",
       "        vertical-align: top;\n",
       "    }\n",
       "\n",
       "    .dataframe thead th {\n",
       "        text-align: right;\n",
       "    }\n",
       "</style>\n",
       "<table border=\"1\" class=\"dataframe\">\n",
       "  <thead>\n",
       "    <tr style=\"text-align: right;\">\n",
       "      <th></th>\n",
       "      <th>HeartDiseaseorAttack</th>\n",
       "      <th>HighBP</th>\n",
       "      <th>HighChol</th>\n",
       "      <th>CholCheck</th>\n",
       "      <th>BMI</th>\n",
       "      <th>Smoker</th>\n",
       "      <th>Stroke</th>\n",
       "      <th>Diabetes</th>\n",
       "      <th>PhysActivity</th>\n",
       "      <th>Fruits</th>\n",
       "      <th>...</th>\n",
       "      <th>AnyHealthcare</th>\n",
       "      <th>NoDocbcCost</th>\n",
       "      <th>GenHlth</th>\n",
       "      <th>MentHlth</th>\n",
       "      <th>PhysHlth</th>\n",
       "      <th>DiffWalk</th>\n",
       "      <th>Sex</th>\n",
       "      <th>Age</th>\n",
       "      <th>Education</th>\n",
       "      <th>Income</th>\n",
       "    </tr>\n",
       "  </thead>\n",
       "  <tbody>\n",
       "    <tr>\n",
       "      <th>0</th>\n",
       "      <td>0</td>\n",
       "      <td>1</td>\n",
       "      <td>1</td>\n",
       "      <td>1</td>\n",
       "      <td>40</td>\n",
       "      <td>1</td>\n",
       "      <td>0</td>\n",
       "      <td>0</td>\n",
       "      <td>0</td>\n",
       "      <td>0</td>\n",
       "      <td>...</td>\n",
       "      <td>1</td>\n",
       "      <td>0</td>\n",
       "      <td>5</td>\n",
       "      <td>18</td>\n",
       "      <td>15</td>\n",
       "      <td>1</td>\n",
       "      <td>0</td>\n",
       "      <td>9</td>\n",
       "      <td>4</td>\n",
       "      <td>3</td>\n",
       "    </tr>\n",
       "    <tr>\n",
       "      <th>1</th>\n",
       "      <td>0</td>\n",
       "      <td>0</td>\n",
       "      <td>0</td>\n",
       "      <td>0</td>\n",
       "      <td>25</td>\n",
       "      <td>1</td>\n",
       "      <td>0</td>\n",
       "      <td>0</td>\n",
       "      <td>1</td>\n",
       "      <td>0</td>\n",
       "      <td>...</td>\n",
       "      <td>0</td>\n",
       "      <td>1</td>\n",
       "      <td>3</td>\n",
       "      <td>0</td>\n",
       "      <td>0</td>\n",
       "      <td>0</td>\n",
       "      <td>0</td>\n",
       "      <td>7</td>\n",
       "      <td>6</td>\n",
       "      <td>1</td>\n",
       "    </tr>\n",
       "    <tr>\n",
       "      <th>2</th>\n",
       "      <td>0</td>\n",
       "      <td>1</td>\n",
       "      <td>1</td>\n",
       "      <td>1</td>\n",
       "      <td>28</td>\n",
       "      <td>0</td>\n",
       "      <td>0</td>\n",
       "      <td>0</td>\n",
       "      <td>0</td>\n",
       "      <td>1</td>\n",
       "      <td>...</td>\n",
       "      <td>1</td>\n",
       "      <td>1</td>\n",
       "      <td>5</td>\n",
       "      <td>30</td>\n",
       "      <td>30</td>\n",
       "      <td>1</td>\n",
       "      <td>0</td>\n",
       "      <td>9</td>\n",
       "      <td>4</td>\n",
       "      <td>8</td>\n",
       "    </tr>\n",
       "    <tr>\n",
       "      <th>3</th>\n",
       "      <td>0</td>\n",
       "      <td>1</td>\n",
       "      <td>0</td>\n",
       "      <td>1</td>\n",
       "      <td>27</td>\n",
       "      <td>0</td>\n",
       "      <td>0</td>\n",
       "      <td>0</td>\n",
       "      <td>1</td>\n",
       "      <td>1</td>\n",
       "      <td>...</td>\n",
       "      <td>1</td>\n",
       "      <td>0</td>\n",
       "      <td>2</td>\n",
       "      <td>0</td>\n",
       "      <td>0</td>\n",
       "      <td>0</td>\n",
       "      <td>0</td>\n",
       "      <td>11</td>\n",
       "      <td>3</td>\n",
       "      <td>6</td>\n",
       "    </tr>\n",
       "    <tr>\n",
       "      <th>4</th>\n",
       "      <td>0</td>\n",
       "      <td>1</td>\n",
       "      <td>1</td>\n",
       "      <td>1</td>\n",
       "      <td>24</td>\n",
       "      <td>0</td>\n",
       "      <td>0</td>\n",
       "      <td>0</td>\n",
       "      <td>1</td>\n",
       "      <td>1</td>\n",
       "      <td>...</td>\n",
       "      <td>1</td>\n",
       "      <td>0</td>\n",
       "      <td>2</td>\n",
       "      <td>3</td>\n",
       "      <td>0</td>\n",
       "      <td>0</td>\n",
       "      <td>0</td>\n",
       "      <td>11</td>\n",
       "      <td>5</td>\n",
       "      <td>4</td>\n",
       "    </tr>\n",
       "    <tr>\n",
       "      <th>5</th>\n",
       "      <td>0</td>\n",
       "      <td>1</td>\n",
       "      <td>1</td>\n",
       "      <td>1</td>\n",
       "      <td>25</td>\n",
       "      <td>1</td>\n",
       "      <td>0</td>\n",
       "      <td>0</td>\n",
       "      <td>1</td>\n",
       "      <td>1</td>\n",
       "      <td>...</td>\n",
       "      <td>1</td>\n",
       "      <td>0</td>\n",
       "      <td>2</td>\n",
       "      <td>0</td>\n",
       "      <td>2</td>\n",
       "      <td>0</td>\n",
       "      <td>1</td>\n",
       "      <td>10</td>\n",
       "      <td>6</td>\n",
       "      <td>8</td>\n",
       "    </tr>\n",
       "    <tr>\n",
       "      <th>6</th>\n",
       "      <td>0</td>\n",
       "      <td>1</td>\n",
       "      <td>0</td>\n",
       "      <td>1</td>\n",
       "      <td>30</td>\n",
       "      <td>1</td>\n",
       "      <td>0</td>\n",
       "      <td>0</td>\n",
       "      <td>0</td>\n",
       "      <td>0</td>\n",
       "      <td>...</td>\n",
       "      <td>1</td>\n",
       "      <td>0</td>\n",
       "      <td>3</td>\n",
       "      <td>0</td>\n",
       "      <td>14</td>\n",
       "      <td>0</td>\n",
       "      <td>0</td>\n",
       "      <td>9</td>\n",
       "      <td>6</td>\n",
       "      <td>7</td>\n",
       "    </tr>\n",
       "    <tr>\n",
       "      <th>7</th>\n",
       "      <td>0</td>\n",
       "      <td>1</td>\n",
       "      <td>1</td>\n",
       "      <td>1</td>\n",
       "      <td>25</td>\n",
       "      <td>1</td>\n",
       "      <td>0</td>\n",
       "      <td>0</td>\n",
       "      <td>1</td>\n",
       "      <td>0</td>\n",
       "      <td>...</td>\n",
       "      <td>1</td>\n",
       "      <td>0</td>\n",
       "      <td>3</td>\n",
       "      <td>0</td>\n",
       "      <td>0</td>\n",
       "      <td>1</td>\n",
       "      <td>0</td>\n",
       "      <td>11</td>\n",
       "      <td>4</td>\n",
       "      <td>4</td>\n",
       "    </tr>\n",
       "    <tr>\n",
       "      <th>8</th>\n",
       "      <td>1</td>\n",
       "      <td>1</td>\n",
       "      <td>1</td>\n",
       "      <td>1</td>\n",
       "      <td>30</td>\n",
       "      <td>1</td>\n",
       "      <td>0</td>\n",
       "      <td>2</td>\n",
       "      <td>0</td>\n",
       "      <td>1</td>\n",
       "      <td>...</td>\n",
       "      <td>1</td>\n",
       "      <td>0</td>\n",
       "      <td>5</td>\n",
       "      <td>30</td>\n",
       "      <td>30</td>\n",
       "      <td>1</td>\n",
       "      <td>0</td>\n",
       "      <td>9</td>\n",
       "      <td>5</td>\n",
       "      <td>1</td>\n",
       "    </tr>\n",
       "    <tr>\n",
       "      <th>9</th>\n",
       "      <td>0</td>\n",
       "      <td>0</td>\n",
       "      <td>0</td>\n",
       "      <td>1</td>\n",
       "      <td>24</td>\n",
       "      <td>0</td>\n",
       "      <td>0</td>\n",
       "      <td>0</td>\n",
       "      <td>0</td>\n",
       "      <td>0</td>\n",
       "      <td>...</td>\n",
       "      <td>1</td>\n",
       "      <td>0</td>\n",
       "      <td>2</td>\n",
       "      <td>0</td>\n",
       "      <td>0</td>\n",
       "      <td>0</td>\n",
       "      <td>1</td>\n",
       "      <td>8</td>\n",
       "      <td>4</td>\n",
       "      <td>3</td>\n",
       "    </tr>\n",
       "    <tr>\n",
       "      <th>10</th>\n",
       "      <td>0</td>\n",
       "      <td>0</td>\n",
       "      <td>0</td>\n",
       "      <td>1</td>\n",
       "      <td>25</td>\n",
       "      <td>1</td>\n",
       "      <td>0</td>\n",
       "      <td>2</td>\n",
       "      <td>1</td>\n",
       "      <td>1</td>\n",
       "      <td>...</td>\n",
       "      <td>1</td>\n",
       "      <td>0</td>\n",
       "      <td>3</td>\n",
       "      <td>0</td>\n",
       "      <td>0</td>\n",
       "      <td>0</td>\n",
       "      <td>1</td>\n",
       "      <td>13</td>\n",
       "      <td>6</td>\n",
       "      <td>8</td>\n",
       "    </tr>\n",
       "    <tr>\n",
       "      <th>11</th>\n",
       "      <td>0</td>\n",
       "      <td>1</td>\n",
       "      <td>1</td>\n",
       "      <td>1</td>\n",
       "      <td>34</td>\n",
       "      <td>1</td>\n",
       "      <td>0</td>\n",
       "      <td>0</td>\n",
       "      <td>0</td>\n",
       "      <td>1</td>\n",
       "      <td>...</td>\n",
       "      <td>1</td>\n",
       "      <td>0</td>\n",
       "      <td>3</td>\n",
       "      <td>0</td>\n",
       "      <td>30</td>\n",
       "      <td>1</td>\n",
       "      <td>0</td>\n",
       "      <td>10</td>\n",
       "      <td>5</td>\n",
       "      <td>1</td>\n",
       "    </tr>\n",
       "    <tr>\n",
       "      <th>12</th>\n",
       "      <td>0</td>\n",
       "      <td>0</td>\n",
       "      <td>0</td>\n",
       "      <td>1</td>\n",
       "      <td>26</td>\n",
       "      <td>1</td>\n",
       "      <td>0</td>\n",
       "      <td>0</td>\n",
       "      <td>0</td>\n",
       "      <td>0</td>\n",
       "      <td>...</td>\n",
       "      <td>1</td>\n",
       "      <td>0</td>\n",
       "      <td>3</td>\n",
       "      <td>0</td>\n",
       "      <td>15</td>\n",
       "      <td>0</td>\n",
       "      <td>0</td>\n",
       "      <td>7</td>\n",
       "      <td>5</td>\n",
       "      <td>7</td>\n",
       "    </tr>\n",
       "    <tr>\n",
       "      <th>13</th>\n",
       "      <td>0</td>\n",
       "      <td>1</td>\n",
       "      <td>1</td>\n",
       "      <td>1</td>\n",
       "      <td>28</td>\n",
       "      <td>0</td>\n",
       "      <td>0</td>\n",
       "      <td>2</td>\n",
       "      <td>0</td>\n",
       "      <td>0</td>\n",
       "      <td>...</td>\n",
       "      <td>1</td>\n",
       "      <td>0</td>\n",
       "      <td>4</td>\n",
       "      <td>0</td>\n",
       "      <td>0</td>\n",
       "      <td>1</td>\n",
       "      <td>0</td>\n",
       "      <td>11</td>\n",
       "      <td>4</td>\n",
       "      <td>6</td>\n",
       "    </tr>\n",
       "    <tr>\n",
       "      <th>14</th>\n",
       "      <td>0</td>\n",
       "      <td>0</td>\n",
       "      <td>1</td>\n",
       "      <td>1</td>\n",
       "      <td>33</td>\n",
       "      <td>1</td>\n",
       "      <td>1</td>\n",
       "      <td>0</td>\n",
       "      <td>1</td>\n",
       "      <td>0</td>\n",
       "      <td>...</td>\n",
       "      <td>1</td>\n",
       "      <td>1</td>\n",
       "      <td>4</td>\n",
       "      <td>30</td>\n",
       "      <td>28</td>\n",
       "      <td>0</td>\n",
       "      <td>0</td>\n",
       "      <td>4</td>\n",
       "      <td>6</td>\n",
       "      <td>2</td>\n",
       "    </tr>\n",
       "    <tr>\n",
       "      <th>15</th>\n",
       "      <td>0</td>\n",
       "      <td>1</td>\n",
       "      <td>0</td>\n",
       "      <td>1</td>\n",
       "      <td>33</td>\n",
       "      <td>0</td>\n",
       "      <td>0</td>\n",
       "      <td>0</td>\n",
       "      <td>1</td>\n",
       "      <td>0</td>\n",
       "      <td>...</td>\n",
       "      <td>1</td>\n",
       "      <td>0</td>\n",
       "      <td>2</td>\n",
       "      <td>5</td>\n",
       "      <td>0</td>\n",
       "      <td>0</td>\n",
       "      <td>0</td>\n",
       "      <td>6</td>\n",
       "      <td>6</td>\n",
       "      <td>8</td>\n",
       "    </tr>\n",
       "    <tr>\n",
       "      <th>16</th>\n",
       "      <td>0</td>\n",
       "      <td>1</td>\n",
       "      <td>1</td>\n",
       "      <td>1</td>\n",
       "      <td>21</td>\n",
       "      <td>0</td>\n",
       "      <td>0</td>\n",
       "      <td>0</td>\n",
       "      <td>1</td>\n",
       "      <td>1</td>\n",
       "      <td>...</td>\n",
       "      <td>1</td>\n",
       "      <td>0</td>\n",
       "      <td>3</td>\n",
       "      <td>0</td>\n",
       "      <td>0</td>\n",
       "      <td>0</td>\n",
       "      <td>0</td>\n",
       "      <td>10</td>\n",
       "      <td>4</td>\n",
       "      <td>3</td>\n",
       "    </tr>\n",
       "    <tr>\n",
       "      <th>17</th>\n",
       "      <td>0</td>\n",
       "      <td>0</td>\n",
       "      <td>0</td>\n",
       "      <td>1</td>\n",
       "      <td>23</td>\n",
       "      <td>1</td>\n",
       "      <td>0</td>\n",
       "      <td>2</td>\n",
       "      <td>1</td>\n",
       "      <td>0</td>\n",
       "      <td>...</td>\n",
       "      <td>1</td>\n",
       "      <td>0</td>\n",
       "      <td>2</td>\n",
       "      <td>0</td>\n",
       "      <td>0</td>\n",
       "      <td>0</td>\n",
       "      <td>1</td>\n",
       "      <td>7</td>\n",
       "      <td>5</td>\n",
       "      <td>6</td>\n",
       "    </tr>\n",
       "    <tr>\n",
       "      <th>18</th>\n",
       "      <td>0</td>\n",
       "      <td>0</td>\n",
       "      <td>0</td>\n",
       "      <td>0</td>\n",
       "      <td>23</td>\n",
       "      <td>0</td>\n",
       "      <td>0</td>\n",
       "      <td>0</td>\n",
       "      <td>0</td>\n",
       "      <td>0</td>\n",
       "      <td>...</td>\n",
       "      <td>1</td>\n",
       "      <td>0</td>\n",
       "      <td>2</td>\n",
       "      <td>15</td>\n",
       "      <td>0</td>\n",
       "      <td>0</td>\n",
       "      <td>0</td>\n",
       "      <td>2</td>\n",
       "      <td>6</td>\n",
       "      <td>7</td>\n",
       "    </tr>\n",
       "    <tr>\n",
       "      <th>19</th>\n",
       "      <td>0</td>\n",
       "      <td>0</td>\n",
       "      <td>1</td>\n",
       "      <td>1</td>\n",
       "      <td>28</td>\n",
       "      <td>0</td>\n",
       "      <td>0</td>\n",
       "      <td>0</td>\n",
       "      <td>0</td>\n",
       "      <td>0</td>\n",
       "      <td>...</td>\n",
       "      <td>1</td>\n",
       "      <td>0</td>\n",
       "      <td>2</td>\n",
       "      <td>10</td>\n",
       "      <td>0</td>\n",
       "      <td>0</td>\n",
       "      <td>1</td>\n",
       "      <td>4</td>\n",
       "      <td>6</td>\n",
       "      <td>8</td>\n",
       "    </tr>\n",
       "  </tbody>\n",
       "</table>\n",
       "<p>20 rows × 22 columns</p>\n",
       "</div>"
      ],
      "text/plain": [
       "    HeartDiseaseorAttack  HighBP  HighChol  CholCheck  BMI  Smoker  Stroke  \\\n",
       "0                      0       1         1          1   40       1       0   \n",
       "1                      0       0         0          0   25       1       0   \n",
       "2                      0       1         1          1   28       0       0   \n",
       "3                      0       1         0          1   27       0       0   \n",
       "4                      0       1         1          1   24       0       0   \n",
       "5                      0       1         1          1   25       1       0   \n",
       "6                      0       1         0          1   30       1       0   \n",
       "7                      0       1         1          1   25       1       0   \n",
       "8                      1       1         1          1   30       1       0   \n",
       "9                      0       0         0          1   24       0       0   \n",
       "10                     0       0         0          1   25       1       0   \n",
       "11                     0       1         1          1   34       1       0   \n",
       "12                     0       0         0          1   26       1       0   \n",
       "13                     0       1         1          1   28       0       0   \n",
       "14                     0       0         1          1   33       1       1   \n",
       "15                     0       1         0          1   33       0       0   \n",
       "16                     0       1         1          1   21       0       0   \n",
       "17                     0       0         0          1   23       1       0   \n",
       "18                     0       0         0          0   23       0       0   \n",
       "19                     0       0         1          1   28       0       0   \n",
       "\n",
       "    Diabetes  PhysActivity  Fruits  ...  AnyHealthcare  NoDocbcCost  GenHlth  \\\n",
       "0          0             0       0  ...              1            0        5   \n",
       "1          0             1       0  ...              0            1        3   \n",
       "2          0             0       1  ...              1            1        5   \n",
       "3          0             1       1  ...              1            0        2   \n",
       "4          0             1       1  ...              1            0        2   \n",
       "5          0             1       1  ...              1            0        2   \n",
       "6          0             0       0  ...              1            0        3   \n",
       "7          0             1       0  ...              1            0        3   \n",
       "8          2             0       1  ...              1            0        5   \n",
       "9          0             0       0  ...              1            0        2   \n",
       "10         2             1       1  ...              1            0        3   \n",
       "11         0             0       1  ...              1            0        3   \n",
       "12         0             0       0  ...              1            0        3   \n",
       "13         2             0       0  ...              1            0        4   \n",
       "14         0             1       0  ...              1            1        4   \n",
       "15         0             1       0  ...              1            0        2   \n",
       "16         0             1       1  ...              1            0        3   \n",
       "17         2             1       0  ...              1            0        2   \n",
       "18         0             0       0  ...              1            0        2   \n",
       "19         0             0       0  ...              1            0        2   \n",
       "\n",
       "    MentHlth  PhysHlth  DiffWalk  Sex  Age  Education  Income  \n",
       "0         18        15         1    0    9          4       3  \n",
       "1          0         0         0    0    7          6       1  \n",
       "2         30        30         1    0    9          4       8  \n",
       "3          0         0         0    0   11          3       6  \n",
       "4          3         0         0    0   11          5       4  \n",
       "5          0         2         0    1   10          6       8  \n",
       "6          0        14         0    0    9          6       7  \n",
       "7          0         0         1    0   11          4       4  \n",
       "8         30        30         1    0    9          5       1  \n",
       "9          0         0         0    1    8          4       3  \n",
       "10         0         0         0    1   13          6       8  \n",
       "11         0        30         1    0   10          5       1  \n",
       "12         0        15         0    0    7          5       7  \n",
       "13         0         0         1    0   11          4       6  \n",
       "14        30        28         0    0    4          6       2  \n",
       "15         5         0         0    0    6          6       8  \n",
       "16         0         0         0    0   10          4       3  \n",
       "17         0         0         0    1    7          5       6  \n",
       "18        15         0         0    0    2          6       7  \n",
       "19        10         0         0    1    4          6       8  \n",
       "\n",
       "[20 rows x 22 columns]"
      ]
     },
     "execution_count": 2,
     "metadata": {},
     "output_type": "execute_result"
    }
   ],
   "source": [
    "# Create a data frame with given columns and value\n",
    "file = os.path.join(\"heart_disease_health_indicators_BRFSS2015.csv\")\n",
    "original_df = pd.read_csv(file)\n",
    "original_df.head(20)"
   ]
  },
  {
   "cell_type": "code",
   "execution_count": 3,
   "metadata": {},
   "outputs": [
    {
     "data": {
      "text/plain": [
       "253680"
      ]
     },
     "execution_count": 3,
     "metadata": {},
     "output_type": "execute_result"
    }
   ],
   "source": [
    "original_df[\"BMI\"].count()"
   ]
  },
  {
   "cell_type": "code",
   "execution_count": 4,
   "metadata": {},
   "outputs": [],
   "source": [
    "# Organize columns into a more logical order\n"
   ]
  },
  {
   "cell_type": "code",
<<<<<<< HEAD
   "execution_count": 58,
   "metadata": {},
   "outputs": [
    {
     "name": "stdout",
     "output_type": "stream",
     "text": [
      "['HeartDiseaseorAttack', 'Education']\n",
      "HeartDiseaseorAttack       0      1     All\n",
      "Education                                  \n",
      "1                        145     29     174\n",
      "2                       3265    778    4043\n",
      "3                       7860   1618    9478\n",
      "4                      55283   7467   62750\n",
      "5                      62992   6918   69910\n",
      "6                     100242   7083  107325\n",
      "All                   229787  23893  253680\n",
      "(2589.7898491235974, 0.0, 10)\n",
      "[   174   4043   9478  62750  69910 107325]\n"
     ]
    },
    {
     "data": {
      "image/png": "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\n",
      "text/plain": [
       "<Figure size 432x288 with 1 Axes>"
      ]
     },
     "metadata": {
      "needs_background": "light"
     },
     "output_type": "display_data"
    }
   ],
   "source": [
    "categorical_col = ['HeartDiseaseorAttack','Education']\n",
    "print(categorical_col)\n",
    "chisqt = pd.crosstab(original_df[\"Education\"],original_df[\"HeartDiseaseorAttack\"], margins=True)\n",
    "print(chisqt)\n",
    "from scipy.stats import chi2_contingency\n",
    "\n",
    "value = np.array([chisqt.iloc[0][0:].values,\n",
    "                  chisqt.iloc[1][0:].values,\n",
    "                 chisqt.iloc[2][0:].values,\n",
    "                 chisqt.iloc[3][0:].values,\n",
    "                 chisqt.iloc[4][0:].values,\n",
    "                 chisqt.iloc[5][0:].values])\n",
    "\n",
    "print(chi2_contingency(value)[0:3])\n",
    "# Therefore the p value is below the 0.05 threshold, Thus, these variables are not independent\n",
    "\n",
    "## visualisation\n",
    "print(chisqt.iloc[0:6][0].values+chisqt.iloc[0:6][1].values)\n",
    "percent_heart_disease =  (chisqt.iloc[0:6][1].values/(chisqt.iloc[0:6][0].values+chisqt.iloc[0:6][1].values))*100\n",
    "percent_no_heart_disease = (chisqt.iloc[0:6][0].values/(chisqt.iloc[0:6][0].values+chisqt.iloc[0:6][1].values))*100\n",
    "loc = np.arange(6)\n",
    "\n",
    "bar1 = plt.bar(loc,percent_heart_disease, color=\"red\", width=.8, label=\"With Heart Disease\")\n",
    "bar2 = plt.bar(loc,percent_no_heart_disease, bottom=percent_heart_disease, width=.8, label=\"No Heart Disease\")\n",
    "\n",
    "plt.title(\"Percent of People with Heart Disease by Education level\")\n",
    "plt.xlabel(\"Education level\")\n",
    "plt.ylabel(\"Proportion (%)\")\n",
    "plt.ylim(0,110)\n",
    "plt.legend()\n",
    "\n",
    "\n",
    "\n",
    "plt.show()\n"
=======
   "execution_count": null,
   "metadata": {},
   "outputs": [],
   "source": [
    "\n",
    "\n"
>>>>>>> andriani
   ]
  },
  {
   "cell_type": "code",
<<<<<<< HEAD
   "execution_count": 26,
=======
   "execution_count": 18,
>>>>>>> andriani
   "metadata": {},
   "outputs": [
    {
     "data": {
<<<<<<< HEAD
      "image/png": "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\n",
=======
      "image/png": "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\n",
>>>>>>> andriani
      "text/plain": [
       "<Figure size 432x288 with 1 Axes>"
      ]
     },
     "metadata": {
      "needs_background": "light"
     },
     "output_type": "display_data"
    },
    {
     "data": {
      "text/plain": [
<<<<<<< HEAD
       "Text(0, 0.5, 'Pysical health (bad/30days)')"
      ]
     },
     "execution_count": 26,
=======
       "<BarContainer object of 6 artists>"
      ]
     },
     "execution_count": 18,
>>>>>>> andriani
     "metadata": {},
     "output_type": "execute_result"
    },
    {
     "data": {
<<<<<<< HEAD
      "image/png": "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\n",
=======
      "image/png": "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\n",
>>>>>>> andriani
      "text/plain": [
       "<Figure size 432x288 with 1 Axes>"
      ]
     },
     "metadata": {
      "needs_background": "light"
     },
     "output_type": "display_data"
    }
   ],
   "source": [
    "#########Distribution \n",
    "import seaborn as sns\n",
    "\n",
    "ax = sns.boxplot(x='Education', y='PhysHlth', data=original_df, color='#99c2a2')\n",
    "#ax = sns.swarmplot(x=\"Education\", y=\"PhysHlth\", data=original_df, color='#7d0013')\n",
<<<<<<< HEAD
    "plt.title(\"Distribution assessment (Physical health ~ Education)\")\n",
=======
>>>>>>> andriani
    "plt.show()\n",
    "\n",
    "\n",
    "########### Means\n",
    "Grouped_education= original_df.groupby(\"Education\")\n",
    "means_Grouped_education = Grouped_education.mean()\n",
    "education_levels = list(means_Grouped_education.index.values)\n",
    "\n",
    "\n",
    "\n",
    "plt.bar(education_levels, means_Grouped_education[\"PhysHlth\"])\n",
    "\n",
<<<<<<< HEAD
    "plt.title(\"Mean Physical health vs education level(Physical health ~ Education)\")\n",
    "plt.xlabel(\"Education level\")\n",
    "plt.ylabel(\"Pysical health (bad/30days)\")\n"
=======
    "\n",
    "\n"
>>>>>>> andriani
   ]
  },
  {
   "cell_type": "code",
<<<<<<< HEAD
   "execution_count": 28,
=======
   "execution_count": 19,
>>>>>>> andriani
   "metadata": {},
   "outputs": [
    {
     "data": {
<<<<<<< HEAD
      "image/png": "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\n",
=======
      "image/png": "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\n",
>>>>>>> andriani
      "text/plain": [
       "<Figure size 432x288 with 1 Axes>"
      ]
     },
     "metadata": {
      "needs_background": "light"
     },
     "output_type": "display_data"
    },
    {
     "data": {
      "text/plain": [
<<<<<<< HEAD
       "Text(0, 0.5, 'Mental health (bad/30days)')"
      ]
     },
     "execution_count": 28,
=======
       "<BarContainer object of 6 artists>"
      ]
     },
     "execution_count": 19,
>>>>>>> andriani
     "metadata": {},
     "output_type": "execute_result"
    },
    {
     "data": {
<<<<<<< HEAD
      "image/png": "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\n",
=======
      "image/png": "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\n",
>>>>>>> andriani
      "text/plain": [
       "<Figure size 432x288 with 1 Axes>"
      ]
     },
     "metadata": {
      "needs_background": "light"
     },
     "output_type": "display_data"
    }
   ],
   "source": [
    "########Distribution\n",
    "ax = sns.boxplot(x='Education', y='MentHlth', data=original_df, color='#99c2a2')\n",
    "#ax = sns.swarmplot(x=\"Education\", y=\"MentHlth\", data=original_df, color='#7d0013')\n",
<<<<<<< HEAD
    "plt.title(\"Mental health vs education level distribution (Physical health ~ Education)\")\n",
=======
>>>>>>> andriani
    "plt.show()\n",
    "\n",
    "\n",
    "########## Mean \n",
<<<<<<< HEAD
    "plt.bar(education_levels, means_Grouped_education[\"MentHlth\"])\n",
    "plt.title(\"Mean Mental health vs education level(Physical health ~ Education)\")\n",
    "plt.xlabel(\"Education level\")\n",
    "plt.ylabel(\"Mental health (bad/30days)\")"
=======
    "plt.bar(education_levels, means_Grouped_education[\"MentHlth\"])\n"
>>>>>>> andriani
   ]
  },
  {
   "cell_type": "code",
   "execution_count": null,
   "metadata": {},
   "outputs": [],
   "source": []
  },
  {
   "cell_type": "code",
<<<<<<< HEAD
   "execution_count": 30,
=======
   "execution_count": 52,
>>>>>>> andriani
   "metadata": {},
   "outputs": [
    {
     "name": "stdout",
     "output_type": "stream",
     "text": [
      "1325.416935495964 0.0\n",
      "                                            sum_sq        df            F  \\\n",
      "C(Education)                          3.889993e+05       5.0  1081.463748   \n",
      "C(HeartDiseaseorAttack)               5.346559e+05       1.0  7432.030241   \n",
      "C(Education):C(HeartDiseaseorAttack)  6.037901e+03       5.0    16.786073   \n",
      "Residual                              1.824873e+07  253668.0          NaN   \n",
      "\n",
      "                                            PR(>F)  \n",
      "C(Education)                          0.000000e+00  \n",
      "C(HeartDiseaseorAttack)               0.000000e+00  \n",
      "C(Education):C(HeartDiseaseorAttack)  1.269650e-16  \n",
      "Residual                                       NaN  \n"
     ]
    },
    {
     "data": {
<<<<<<< HEAD
      "image/png": "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\n",
=======
      "image/png": "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\n",
>>>>>>> andriani
      "text/plain": [
       "<Figure size 432x288 with 1 Axes>"
      ]
     },
     "metadata": {
      "needs_background": "light"
     },
     "output_type": "display_data"
    },
    {
<<<<<<< HEAD
     "data": {
      "text/plain": [
       "<Figure size 432x288 with 0 Axes>"
      ]
     },
     "metadata": {},
     "output_type": "display_data"
    },
    {
=======
>>>>>>> andriani
     "name": "stdout",
     "output_type": "stream",
     "text": [
      "15\n",
      "    group1  group2      Diff     Lower     Upper    q-value  p-value\n",
      "0        4       6  2.445824  2.324361  2.567287  81.151009    0.001\n",
      "1        4       3  2.619076  2.352716  2.885436  39.627078    0.001\n",
      "2        4       5  0.613247  0.480332  0.746162  18.594027    0.001\n",
      "3        4       2  3.050079  2.657897  3.442262  31.342667    0.001\n",
      "4        4       1  3.553634  1.718754  5.388515   7.805085    0.001\n",
      "5        6       3  5.064900  4.805901  5.323900  78.810533    0.001\n",
      "6        6       5  1.832578  1.715105  1.950050  62.869395    0.001\n",
      "7        6       2  5.495904  5.108683  5.883125  57.199574    0.001\n",
      "8        6       1  5.999459  4.165632  7.833286  13.184586    0.001\n",
      "9        3       5  3.232323  2.967759  3.496887  49.237597    0.001\n",
      "12       5       2  3.663326  3.272362  4.054291  37.761634    0.001\n",
      "13       5       1  4.166881  2.332261  6.001502   9.153297    0.001\n",
      "1\n",
      "   group1  group2     Diff    Lower    Upper     q-value  p-value\n",
      "0       0       1  5.42314  5.31014  5.53614  133.026234    0.001\n",
      "66\n",
      "    group1  group2       Diff     Lower      Upper     q-value   p-value\n",
      "0   (0, 4)  (0, 6)   2.102125  1.955279   2.248971   66.162300  0.001000\n",
      "1   (0, 4)  (0, 3)   2.303645  1.969498   2.637792   31.863362  0.001000\n",
      "2   (0, 4)  (0, 5)   0.530280  0.368736   0.691824   15.171516  0.001000\n",
      "3   (0, 4)  (0, 2)   2.650466  2.151236   3.149697   24.537776  0.001000\n",
      "4   (0, 4)  (0, 1)   3.373168  1.068188   5.678148    6.763706  0.001000\n",
      "5   (0, 4)  (1, 4)   5.225655  4.883896   5.567415   70.669876  0.001000\n",
      "6   (0, 4)  (1, 6)   2.112270  1.762444   2.462096   27.906894  0.001000\n",
      "7   (0, 4)  (1, 3)   7.793990  7.094861   8.493118   51.524821  0.001000\n",
      "8   (0, 4)  (1, 5)   4.915236  4.561731   5.268740   64.263345  0.001000\n",
      "9   (0, 4)  (1, 2)   7.958568  6.957814   8.959322   36.755444  0.001000\n",
      "10  (0, 4)  (1, 1)   8.186961  3.038265  13.335657    7.349189  0.001000\n",
      "11  (0, 6)  (0, 3)   4.405770  4.081084   4.730455   62.715174  0.001000\n",
      "12  (0, 6)  (0, 5)   1.571845  1.430909   1.712780   51.547001  0.001000\n",
      "13  (0, 6)  (0, 2)   4.752591  4.259643   5.245538   44.559836  0.001000\n",
      "14  (0, 6)  (0, 1)   5.475292  3.171665   7.778920   10.985226  0.001000\n",
      "15  (0, 6)  (1, 4)   7.327780  6.995266   7.660294  101.853492  0.001000\n",
      "16  (0, 6)  (1, 6)   4.214395  3.873595   4.555195   57.154420  0.001000\n",
      "17  (0, 6)  (1, 3)   9.896114  9.201458  10.590771   65.842839  0.001000\n",
      "18  (0, 6)  (1, 5)   7.017361  6.672786   7.361935   94.124818  0.001000\n",
      "19  (0, 6)  (1, 2)  10.060693  9.063058  11.058327   46.609069  0.001000\n",
      "20  (0, 6)  (1, 1)  10.289086  5.140995  15.437176    9.237289  0.001000\n",
      "21  (0, 3)  (0, 5)   2.833925  2.502333   3.165518   39.500070  0.001000\n",
      "24  (0, 3)  (1, 4)   2.922010  2.474063   3.369957   30.148732  0.001000\n",
      "26  (0, 3)  (1, 3)   5.490344  4.733616   6.247073   33.533072  0.001000\n",
      "27  (0, 3)  (1, 5)   2.611591  2.154620   3.068562   26.413772  0.001000\n",
      "28  (0, 3)  (1, 2)   5.654923  4.613114   6.696731   25.087231  0.001000\n",
      "29  (0, 3)  (1, 1)   5.883316  0.726483  11.040149    5.272942  0.010466\n",
      "30  (0, 5)  (0, 2)   3.180746  2.683222   3.678270   29.548062  0.001000\n",
      "31  (0, 5)  (0, 1)   3.903448  1.598837   6.208059    7.828250  0.001000\n",
      "32  (0, 5)  (1, 4)   5.755935  5.416674   6.095197   78.414254  0.001000\n",
      "33  (0, 5)  (1, 6)   2.642550  2.295164   2.989937   35.158035  0.001000\n",
      "34  (0, 5)  (1, 3)   8.324270  7.626358   9.022181   55.126421  0.001000\n",
      "35  (0, 5)  (1, 5)   5.445516  5.094426   5.796607   71.685932  0.001000\n",
      "36  (0, 5)  (1, 2)   8.488848  7.488945   9.488752   39.237797  0.001000\n",
      "37  (0, 5)  (1, 1)   8.717241  3.568711  13.865772    7.825456  0.001000\n",
      "39  (0, 2)  (1, 4)   2.575189  1.993611   3.156767   20.465154  0.001000\n",
      "41  (0, 2)  (1, 3)   5.143523  4.300781   5.986266   28.208486  0.001000\n",
      "42  (0, 2)  (1, 5)   2.264770  1.676213   2.853327   17.784826  0.001000\n",
      "43  (0, 2)  (1, 2)   5.308102  4.202235   6.413969   22.184535  0.001000\n",
      "44  (0, 2)  (1, 1)   5.536495  0.366340  10.706650    4.949317  0.023596\n",
      "47  (0, 1)  (1, 3)   4.420822  2.017924   6.823719    8.503186  0.001000\n",
      "49  (0, 1)  (1, 2)   4.585400  2.078082   7.092718    8.452433  0.001000\n",
      "51  (1, 4)  (1, 6)   3.113385  2.653624   3.573146   31.297858  0.001000\n",
      "52  (1, 4)  (1, 3)   2.568334  1.808214   3.328455   15.616474  0.001000\n",
      "54  (1, 4)  (1, 2)   2.732913  1.688638   3.777188   12.095529  0.001000\n",
      "56  (1, 6)  (1, 3)   5.681719  4.917938   6.445501   34.381486  0.001000\n",
      "57  (1, 6)  (1, 5)   2.802966  2.334408   3.271523   27.648319  0.001000\n",
      "58  (1, 6)  (1, 2)   5.846298  4.799355   6.893240   25.809050  0.001000\n",
      "59  (1, 6)  (1, 1)   6.074691  0.916818  11.232563    5.443365  0.006639\n",
      "60  (1, 3)  (1, 5)   2.878754  2.113280   3.644227   17.381546  0.001000\n",
      "63  (1, 5)  (1, 2)   3.043332  1.995155   4.091509   13.419256  0.001000\n",
      "0.670904278755188 0.0\n"
     ]
    },
    {
     "name": "stderr",
     "output_type": "stream",
     "text": [
      "C:\\Users\\trist\\anaconda3\\lib\\site-packages\\scipy\\stats\\morestats.py:1760: UserWarning: p-value may not be accurate for N > 5000.\n",
      "  warnings.warn(\"p-value may not be accurate for N > 5000.\")\n"
     ]
    },
    {
     "data": {
      "text/html": [
       "<div>\n",
       "<style scoped>\n",
       "    .dataframe tbody tr th:only-of-type {\n",
       "        vertical-align: middle;\n",
       "    }\n",
       "\n",
       "    .dataframe tbody tr th {\n",
       "        vertical-align: top;\n",
       "    }\n",
       "\n",
       "    .dataframe thead th {\n",
       "        text-align: right;\n",
       "    }\n",
       "</style>\n",
       "<table border=\"1\" class=\"dataframe\">\n",
       "  <thead>\n",
       "    <tr style=\"text-align: right;\">\n",
       "      <th></th>\n",
       "      <th>Parameter</th>\n",
       "      <th>Value</th>\n",
       "    </tr>\n",
       "  </thead>\n",
       "  <tbody>\n",
       "    <tr>\n",
       "      <th>0</th>\n",
       "      <td>Test statistics (W)</td>\n",
       "      <td>1329.2291</td>\n",
       "    </tr>\n",
       "    <tr>\n",
       "      <th>1</th>\n",
       "      <td>Degrees of freedom (Df)</td>\n",
       "      <td>5.0000</td>\n",
       "    </tr>\n",
       "    <tr>\n",
       "      <th>2</th>\n",
       "      <td>p value</td>\n",
       "      <td>0.0000</td>\n",
       "    </tr>\n",
       "  </tbody>\n",
       "</table>\n",
       "</div>"
      ],
      "text/plain": [
       "                 Parameter      Value\n",
       "0      Test statistics (W)  1329.2291\n",
       "1  Degrees of freedom (Df)     5.0000\n",
       "2                  p value     0.0000"
      ]
     },
<<<<<<< HEAD
     "execution_count": 30,
=======
     "execution_count": 52,
>>>>>>> andriani
     "metadata": {},
     "output_type": "execute_result"
    }
   ],
   "source": [
    "# Statistical tests \n",
<<<<<<< HEAD
    "import statsmodels.api as sm\n",
    "from statsmodels.formula.api import ols\n",
    "\n",
    "# Ordinary Least Squares (OLS) model ANOVA \n",
=======
    "import scipy.stats as stats\n",
    "Education_lvl_1 = original_df[original_df[\"Education\"] == 1]\n",
    "Education_lvl_2 = original_df[original_df[\"Education\"] == 2]\n",
    "Education_lvl_3 = original_df[original_df[\"Education\"] == 3]\n",
    "Education_lvl_4 = original_df[original_df[\"Education\"] == 4]\n",
    "Education_lvl_5 = original_df[original_df[\"Education\"] == 5]\n",
    "Education_lvl_6 = original_df[original_df[\"Education\"] == 6]\n",
    "\n",
    "fvalue, pvalue = stats.f_oneway(Education_lvl_1[\"PhysHlth\"],\n",
    "                                Education_lvl_2[\"PhysHlth\"],\n",
    "                                Education_lvl_3[\"PhysHlth\"],\n",
    "                                Education_lvl_4[\"PhysHlth\"],\n",
    "                                Education_lvl_5[\"PhysHlth\"],\n",
    "                                Education_lvl_6[\"PhysHlth\"])\n",
    "print(fvalue, pvalue)\n",
    "\n",
    "import statsmodels.api as sm\n",
    "from statsmodels.formula.api import ols\n",
    "\n",
    "# Ordinary Least Squares (OLS) model\n",
>>>>>>> andriani
    "model = ols('PhysHlth ~ C(Education) + C(HeartDiseaseorAttack) + C(Education):C(HeartDiseaseorAttack)', data=original_df).fit()\n",
    "anova_table = sm.stats.anova_lm(model, typ=2)\n",
    "print(anova_table)\n",
    "\n",
    "# interaction plot \n",
    "from statsmodels.graphics.factorplots import interaction_plot\n",
    "fig = interaction_plot(x=original_df['Education'],\n",
    "                       trace=original_df['HeartDiseaseorAttack'],\n",
    "                       response=original_df['PhysHlth'], \n",
<<<<<<< HEAD
    "    colors=['g','b'])\n",
    "plt.title(\"Mean Physical health at increasing education levels for individuals with (1) and without (0) heart disease/attack\")\n",
    "plt.xlabel(\"Education level\")\n",
    "plt.ylabel(\"Mean Physical health (Bad Days/30)\")\n",
    "plt.grid()\n",
    "plt.show()\n",
    "plt.savefig(\"Physical_health.png\")\n",
    "plt.show()\n",
    "# there is a statistical difference but where: \n",
    "\n",
    "# Difference in mental health means based on education level\n",
=======
    "    colors=['#4c061d','#d17a22'])\n",
    "plt.show()\n",
    "# there is a statistical difference but where - \n",
    "\n",
>>>>>>> andriani
    "res = stat()\n",
    "res.tukey_hsd(df=original_df, res_var='PhysHlth',\n",
    "              xfac_var='Education',\n",
    "              anova_model='PhysHlth ~ C(Education) + C(HeartDiseaseorAttack) + C(Education):C(HeartDiseaseorAttack)')\n",
    "print(len(res.tukey_summary))\n",
    "significant_differences = res.tukey_summary[res.tukey_summary[\"p-value\"] < 0.05]\n",
    "print(significant_differences)\n",
    "\n",
<<<<<<< HEAD
    "# Difference in Physical health means between individuals with heart disease and not\n",
    "#tukey test\n",
=======
    "\n",
>>>>>>> andriani
    "res.tukey_hsd(df=original_df, res_var='PhysHlth', xfac_var='HeartDiseaseorAttack', anova_model='PhysHlth ~ C(Education) + C(HeartDiseaseorAttack) + C(Education):C(HeartDiseaseorAttack)')\n",
    "print(len(res.tukey_summary))\n",
    "significant_differences = res.tukey_summary[res.tukey_summary[\"p-value\"] < 0.05]\n",
    "print(significant_differences)\n",
    "\n",
    "### interaction \n",
    "res.tukey_hsd(df=original_df, res_var='PhysHlth', xfac_var=['HeartDiseaseorAttack','Education'] , anova_model='PhysHlth ~ C(Education) + C(HeartDiseaseorAttack) + C(Education):C(HeartDiseaseorAttack)')\n",
    "print(len(res.tukey_summary))\n",
    "significant_differences = res.tukey_summary[res.tukey_summary[\"p-value\"] < 0.05]\n",
    "print(significant_differences)\n",
    "\n",
    "\n",
    "############ normality - shapiro wilks \n",
    "import scipy.stats as stats\n",
    "w, pvalue = stats.shapiro(model.resid)\n",
    "print(w, pvalue)\n",
    "\n",
    "############ homogeniety of variance - levenes\n",
    "res = stat()\n",
    "res.levene(df=original_df, res_var='PhysHlth', xfac_var='Education')\n",
    "res.levene_summary\n",
<<<<<<< HEAD
    "\n",
    "### Large data set normality and homogeniety tests not valid \n"
=======
    "\n"
>>>>>>> andriani
   ]
  },
  {
   "cell_type": "code",
<<<<<<< HEAD
   "execution_count": 29,
=======
   "execution_count": 55,
>>>>>>> andriani
   "metadata": {},
   "outputs": [
    {
     "name": "stdout",
     "output_type": "stream",
     "text": [
      "                                            sum_sq        df           F  \\\n",
      "C(Education)                          1.515170e+05       5.0  560.028996   \n",
      "C(HeartDiseaseorAttack)               4.097994e+04       1.0  757.339331   \n",
      "C(Education):C(HeartDiseaseorAttack)  3.930350e+03       5.0   14.527152   \n",
      "Residual                              1.372608e+07  253668.0         NaN   \n",
      "\n",
      "                                             PR(>F)  \n",
      "C(Education)                           0.000000e+00  \n",
      "C(HeartDiseaseorAttack)               1.791553e-166  \n",
      "C(Education):C(HeartDiseaseorAttack)   2.909226e-14  \n",
      "Residual                                        NaN  \n"
     ]
    },
    {
     "data": {
<<<<<<< HEAD
      "image/png": "iVBORw0KGgoAAAANSUhEUgAAAqoAAAEWCAYAAACuZbX5AAAAOXRFWHRTb2Z0d2FyZQBNYXRwbG90bGliIHZlcnNpb24zLjQuMywgaHR0cHM6Ly9tYXRwbG90bGliLm9yZy/MnkTPAAAACXBIWXMAAAsTAAALEwEAmpwYAABUbElEQVR4nO3dd5gUVdbH8e8hR5EkkhRQEREJOigjq4IYUZE1KyKIiqw55wBiXnNaRcWACKuYWPU1oYMJAwiigogBARNBCUNmOO8ftwabYVJPqp7h93mefrq7qvrWuZX69K1b1ebuiIiIiIikmkpxByAiIiIikhslqiIiIiKSkpSoioiIiEhKUqIqIiIiIilJiaqIiIiIpCQlqiIiIiKSkpSolhAzyzCz0/MYN9TMniml+bqZ7ZjP+DlmdkBpzDuXee1jZrPKYl4lwcz+z8wGpEAcT5rZjTHM9xsz61EK5ea5L5TgPIq0T5nZzmY21cyWm9l5JRDHVWb2WBE/28PM5ie8L9T6MLN+ZvZWPuNLZPnnjK+kFbT/FWW/MLOPzKxLIaf9zMx2Tab84ijoWF3IMvLdRspi38uPmR1kZi8Xcto+Zja2gGnK7PurKBKPQ2a2nZllmlnluONKZUXZRgtMVKMNZa2ZNcoxfFq047VKMs5iiQ6ebmYv5hjeKRqeUULzKfZBpayVdsJT0EHD3T9w951La/4lzd0Pdfen4o6jLOS2bbj7ru6eEVNIcbkMyHD3uu5+X3ELc/eb3b1EEoPCrg93H+3uB5XEPOOUuP+Z2UAz+7A45ZnZEcByd58ave9gZm+a2SIzy+2G4XcANxRnnmUtcRspzQaQnJL40XIzcGvC51qZ2XtmttLMvk38/nD38UAHM+tYCiEnrbjboLvPdfc67p5VknGVFDOrFu0LdQqYbrN1XZbbWm4K26L6E3Bi9hsz2w2oWSoRFc5CYG8za5gwbADwXUzxSCmxQC3/UlK2B74pygfNrEoJxyIlawgwKuH9OuA54LQ8ph8P9DSzpqUd2JbAzLoC9dz9k4TBY4CpQEPgamCcmTXOMX5w2UWZuy1k394XmObumXEHkqzCJgCjgFMS3g8Ank6cwMyqm9kdZjbXzP4ws4fNrGY0rr6ZvWpmC83sr+h1i4TPZpjZ8Oi0zXIzeytnC24Oa4GXgROiz1cGjgNG54ipnZm9bWZ/mtksMzsuYdyTZvagmb0WzfNTM9shGvd+NNmXUVP+8QXVoRCqmdnT0by+MbO0hFiamdkLUdk/WcIpSTPb08wmmdkSM/vNzB4ws2o5CzezwUA/4LIo5v8ljO5sZtPNbKmZ/dfMauQWoJntYGbvmtni6JfXaDPbOho3CtgO+F9U/mW5fD7nqcw5ZnZJXvM2syMttMwvM7MfzOyQaHiGmd1kZh8BK4E2BazLwyyczl1mZvPMbGjCuBpm9kxUpyVm9rmZNUmYz+nR64Fm9mG0Df8VrYdDE8ppbWbvR+vvnWjbyfMXppkdHtVtiZl9bAmtBmbWxcy+iMr6L5C4TDb7VW8JrftmVtPM7jSzn6Nl+qH9vZ89b2a/R8Pft+i0Zl7bhiW0kFvYf+8xs1+jxz1mVj1xvZrZxWa2INoOT82r7rksi0FmNjNarm+a2fbR8IfN7I4c075iZhdFr/PcL3J8Js91nGO6d4GewAPRcmhrZvUs7JcLo2V6jUU/jKJ18ZGZ3W1mfwJDcykz8dRfq2hdDbBwHFxkZlcnTFvTwnHnLzObAXTNUdYcMzsgqvcqM2uQMK5LVF7VnNuImR1oobVqqZk9AFhu8eWIsUr0/tRo3Sw3sx/N7MzclnE07eVm9ks07Swz65XLNK2jdZC9DB8zswUJ458xswui1xlmdrqZ7QI8DKRH62VJQpH1LZdjdC7zrQbsD0zMHubus9z9cfL4YeLuq4EpQK6t05bP8TAaX9Dx7dJoX/nVzAblNo9oup5m9lXC+3fM7LOE9x+aWd+EeR5g4Vh5FXB8tMy+TChye8vju9TC6fZvonWUES377HGbnEWMttUbzaw28H9As2hemWbWLJeqHErC8jeztsDuwPXuvsrdXwC+Ao5O+EwGcFheyyaS5/eX5X+cvcLC98pyM5thZv9MGJdz3/4veW+DJHyutZlNjMp8G0hctjn3rYHRPrXcwvGrX8K0uR4To3H3WvgeW2ZmU8xsn4Rxe5rZ5GjcH2Z2V8K4btEyWGJmX9rmXUR6A69H055quez3eazrk8hlW8urjIR4cv1+zzFN02jdXpLb8t7I3fN9AHOAA4BZwC5AZWAeoWXCgVbRdPcQfqE2AOoC/wNuicY1JGyctaJxzwMvJ8wjA/gBaEtoqc0Abs0jnh7AfGBv4NNoWG/gTeB0wmk9gNpRnKcCVQg7zCJg12j8k8CfwJ7R+NHA2IT5OLBjwvvC1OH0PGIeCqyO4qwM3AJ8Eo2rRDhYXgdUA9oAPwIHR+P3ALpFMbYCZgIX5BZnVKcbc1l/nwHNonUzExiSR5w7AgcC1YHGwPvAPTm3hXy2lR7A/MLMO1ruS6P5VQKaA+0SluVcYNeo3vUKWJc9gN2icjoCfwB9o3FnErbFWtGy3wPYKuc6AwYSWmDOiKb7F/ArYNH4SYRThdWAfwDLgGfyWA67AwuAvaKyBkTLonr0+Z+BC4GqwDHRfG9MiOPDHOUlruMHo7ibR2XvDVSPxg0ibJvVCfvjtIQy8to2Dohe3wB8AmwTrfuPgeEJy3d9NE1Vwna8EqifR/0Tl2tf4HvCsaMKcA3wcTRu32i9Zi/j+sAqwvZS0H4xNHv557eO84stev808Eq03FoRzsqclrAu1gPnRrHXzGPfzo6jVbSuHiUcxzoBa4BdovG3Ah8Q9oWWwNdsvr9kr493gTMSxv0beDjnNkL4olxG2I6qErar9QnLf2N8OWKsEr0/DNiBkNzuF63X3XPuz8DO0bpqllDODnks47nAHtHrWdF62yVhXJc89r+c2/2T5HOMzjHtrsCKfI5rnse4+4C7inE8zOv4dgjhONSB8F30LDm+UxLKqUHY7htF9fydcOypG21Hq4CGuWwjm6zbhGWa63dpNGxFVKeqhG4w3wPVch5nch4zyHFsz2N5PQ9cmvD+n8DMHNM8ANyf8L5BNN+89tf8lnGex9lo/LH8fSw5Pqp707z2bXLZBnOJZxJwV7RN7AssZ/P9v0q0zpcBO0fjmvL391Vf8jgmRuNPJuQbVYCLo+2hRsL8+0ev6wDdotfNgcWEY3OlaB0vBhonlPttQjyF2u9zO84lDMuvjIK+30/n7+Pt4PyWubsndTFVdqvqgVGFf8keYWZG+IK/0N3/dPflhL4qJwC4+2J3f8HdV0bjbooqlugJd//O3VcRTtd0zi8Yd/8YaGBmO0dxPZ1jksOBOe7+hLuvd/cvgBcIB/RsL7r7Z+6+nnAQzHOehaxDfj5099c99F8ZRfgSg9Cq0tjdb3D3te7+I+GLLnvZTXH3T6I6zAEeSXK+APe5+6/u/ifhCz3Xerr79+7+truvcfeFhB0y2XkVdt6nASOj+W1w91/c/duEzz3p7t9E6+YQ8lmX7p7h7l9F5UwnnE7KjnsdYaff0d2zouW5LI9Yf3b3R6N19BTh4NLEzLYjrKfronX0IeFHWV7OAB5x90+jeT5FSFi6RY+qhC+8de4+Dvi8MAvSQivVIOD8aHllufvH7r4mWg4j3X159H4o0MnM6hWmbEKL6w3uviBa98OA/gnj10Xj17n760AmIXkpyJmEH6wzo3V5M6GFZHtC0uZAdovBMcAkd/+VAvaLHJJZxxtZOBNzPHBltNzmAHfmqPev7n5/tN2tKkR9AYZ5aEH6EviSv/f144CbomPkPEKSlJdnibpbRcfXE6JhOfUGZrj7OHdfR/iB8nsh48TdX3P3HzyYCLzF3+sjURbhy7m9mVV19znu/kMexU4E9jOzbaP346L3rYGtCMuksAp7jN6akDQka3n02c0U8niY1/HtOMJ32tfuvoJcWuMT5rMamExIfNKA6cCHQHfC8WK2uy9Ook55fZceD7wW1Wkd4Yd3TcKP3ZKwNZuugzqEZCXRUkICni17+q3zKTevZZzfcRZ3fz763AZ3/y8wm5BAZUtq3074Hrg22ibej+LJywZCH9ya7v6bu2e37Od3TMTdn4nyjfXufidhv8s+1q4DdjSzRu6e6X93szgZeD3KMTa4+9uEbap3FHsboKq7z4rmUdj9Pk8FlFHQ93t7QsJ6vbuPKGheySaqJxF+deRMChsTWjOmRM3OS4A3ouGYWS0ze8TCqbVlhF+mW9umV8clHlxXEjbywsR0DuF03ks5xm0P7JUdTxRTP2DbhGkKPc9C1iE/OedVIzpFsD2hmT0xzquA7NPTbS10M/g9mu/NJJxuKOK8c62nmW1jZmMtnN5bBjxThHkVdt4tCb/88zIv4XW+69LM9rLQYX+hmS0l9FXLjnsUobV9rIVTcLebWdWCYnX3ldHLOoRf5X8mDMsZX07bAxfniLdlVE4z4Bf38NMy8nM+ZSVqRGh92Wy5mVllM7s1OsWyjNCykP2ZwmiWI46fo2HZFkcH1WyF3Ue3B+5NWA5/En6BN4+WwVj+7v9+En9338l3v8ghmXWcqBF/t3Bn+5nw6z9bfus5L3lt881ylJffeh9HOA3ZjJDAOCGxz2mTMqNlWuiYzexQM/vEQpeaJYQvts22GXf/HriAkHAtiI4TuZ3+hZCo9ojifp/whbRf9PjA3TcUNj4Kf4z+i00ToMKqCyzJbUQhj4clsa5h02U2kU2X2cQ8P5W7/GLaGEe0Huax6fZeHDnXQSbhh0mirdg0mc2efkk+5eZVn/yOs5jZKfZ3t4AlhNbtxPWX7L7dDPgr+uGRLdf1Gk1zPOG76DcL3VfaJcSd6zExivvi6JT60mh8vYS4TyO0jH9roYvT4QllHptjWfyD0NgCofXz9ez4Crvf56eAMgr6fu9HaOwcV5h5FTpRdfefCRdV9QZezDF6EeH0xK7uvnX0qOfu2RvUxYRfBHu5+1aEnRES+lIV0SjgLMIviZU5xs0DJibEs7WHK/L+VcR5lVYd5gE/5Yizrrv3jsb/h9CCvVM036vymafnMbywbonK6BjN6+Qc8ypu+YnmEU4b5CVxXgWty2cJLZwt3b0eoa+RAXhoARzm7u0JLQeHs2l/68L4jdB6XythWMt8pp9HaDlLjLeWu4+JymoetZJl2y7h9QrCjz4AElqlIOxnq8l9uZ0EHEnoplOPcFoF/l5/Ba27XwkHu8SYfi3gM4UxDzgzx7Ko6eGMCITW72Oi1oS9CC3l2Z/Lb7/YqBjreBGhhSJnvX9JeF+S2/xvbLrdbJfXhO6+hNBCcRxh3Y7J8eMm1zKj7SpxHptsTyT8ULfQB/kFQstaE3ffmvBlluvxxd2fdfd/8He3r9vyCH8ioWWlR/Q6u3Uwv6SruMt5NqH6ySZdu5B3C29Bx8P8FHpdR3ImqhMpOFFNdpltso8nbCvZ2/tK8thWCjmv6YQkKts3hOsLEpPXTmzaZ3gXwtmyAs+A5CLP42x0PHmU0JDVMNq2vyb/77OC6vgboc907YRh+e3Db7r7gYRk8dsonuy4cz0mWuiPejlhv68fxb2Uv7/PZrv7iYQuWrcRLk7L7uY4KkeZtd09+w4MvYHXoFD7fW7LYZNhhSijoO/3oYTj77OFaexL9mrq04D9c/yiyP5l9ihwt5ltA2Bmzc3s4GiSuoREdomFCwSuT3K+uXL3nwg78tW5jH4VaGtm/S1cgFDVzLpaQufxAvxB6BeXrVTqQOh/s8zChQo1o5axDhauoMye7zIgM/pFll+inTPmZNUl/ApeEh3wLy3h8hM9DpxqZr3MrFK0vbTLY9qC1mVdQovnajPbk/DFDmy8UGG3aGdYRkhMkrp9SPQjbTIw1MItPtKBI/L5yKPAkKil18ystoULvuoS+hitB84zsypmdhSbno76EtjVzDpbuGhgaEIcG4CRwF0WLripbGbp0UGjLuG012LCl83NOWIqaN2NAa4xs8YWLr64jtCCVFwPA1fa3xd21TOzYxPqNJVwF4/HgDejBA0K3i82Kuo69tDF4zngJjOrG325XUTJ1Ds3zxGWRX0LF2KeW8D0zxIS7qPJ/bQ/hC+fXc3sKAtnaM5j0wRjGrCvhXs81gOuTBhXjXBacSGw3sLFg3ldWLSzme0fbWurCcfCXJexu8+Oxp8MvB8lIX9E9cgr6foDaGG5XChaGB5OZb9Dwqn5aN+rQagnFi66q54wvjqhP/PbeRRb0PEwP88BA82sffQDt6Dvi48JDSF7Ap95OE2c/ePt/Tw+8wfQygp/V5TngMOiY25VQuPLmmjeELaVk6J97RA27ebwB9DQ8u9K9HriZ9z9u6jM66Nl/0/CNQQvJHxmP8LFO0WR33G2NiG5Wgjhwh9Ci2p+8t0GE74HhkXfA/8gj+8BM2ti4cK12oRlnMnf+0t+x8S6hO+HhUAVM7uOhFZpMzvZzBpH3wVLosFZhGPWEWZ2cLT+ali4CLaFhYtt9yS00kPB+31u6zrntlZQGQV9v68j9CGuDYwqaBtOKlGN+iNMzmP05YQOwp9YOE3yDn/3q7iH0BdmEeGCjTeSmW8BMX3ooU9bzuHLCQvuBMIvyd8Jv0Cq55w2D0OBpyw0ox9HKdUh+rI8gtDv5qeo/McIrWIAlxASr+WEHfO/+RT3OKEP2RIr5E2XcxhG6KC+lPAFmLPl/BZCMrPECrpKrwDu/hnh4qi7o/lNZNOWrcRpC1qXZwE3mNlyQoL1XMLHtyWcXlhG6Ig/kaIlIv2AdEIieCNhPazJI97JhP5TDxBOh31P6DKDu68Fjore/0U4PfRiwme/I1y09A6hlSjnff0uIVw5+znhlNFthP34acJpqF+AGYRtNFFB28aNhIPw9Kj8L6JhxeLuL0Uxjo2OC18Trg5ONIbQEvxswucK2i8SFWcdn0todfyRsKyfJfwYKA3DCOvoJ0Jr6agCph8P7AT84aG/62bcfRHhgH8rYdvcCfgoYfzbhG11OuHitFcTxi0nJLbPEbbFk8i773X1aB6LCPvfNoSzO3mZSOguMjfhvRFuVZSbdwktbb+b2aJ8ys3PI2zav3h7QsKc3YK3inBxV7Y+hItv8zpzUNDxME/u/n+E74x3Cfv/uwVMv4Kwz30THSMg/Kj92d0X5PGx56PnxWb2RSFimkX48XA/YT0eARyRML/zo2FLCMe7lxM++y1hP/0xOoZs1u3Dw7UDS81sr4TBJxD63f5F2H6O8dDfN9uJhPWWtAKOszMI/c0nEZKs3UjYL/JQmG3wJMKPhz8JPz5ydoPMVonwQ+DXaNr9CN9TBR0T3yQk7t8RjhWr2bSLwiHAN2aWCdwLnODuqz30eT+SsE8ujD5zaRRHL0Lf/9XR/PPd7/NY15tsa4Uoo8Dv94Tvwm2Akfklq9lX24pIEizcVupbdy+plnURKSYLt+06N2qpL2jaTwl3ePi69CPbMpjZQcBZ7t63ENMeQbiC/biCppWiM7OHgK/d/aG4YykqJaoihRCdcv6T0Bp2EKG1Ib0wX4giIiJxsHAf7f+5+29xx1JUW8K/MYiUhG0Jp/4aEu7j+y8lqSIiksq8ELd/SnVqURURERGRlKT/UBcRERGRlKRT/1IuNWrUyFu1alVm81uxYgW1a9cueMJyqiLXryLXDVS/8q6s6zdlypRF7t64zGYoUkxKVKVcatWqFZMn53WntJKXkZFBjx49ymx+Za0i168i1w1Uv/KurOtnZoX9JzyRlKBT/yIiIiKSkpSoioiIiEhKUqIqIiIiIilJfVRFRLZw69atY/78+axevTruUDZTr149Zs6cGXcYpaa06lejRg1atGhB1apVS7xskbKkRFVEZAs3f/586tatS6tWrTCzuMPZxPLly6lbt27cYZSa0qifu7N48WLmz59P69atS7RskbKmU/8iIlu41atX07Bhw5RLUqVozIyGDRumZAu5SLKUqIqIiJLUCkbrUyoKJaoiIiIikpKUqIqIyGbq1Kmzyfsnn3ySc845p0TKnjNnDs8+++zG9xkZGdSrV48uXbqw8847s++++/Lqq69uHP/www/z9NNPl8i8S9v69etp1KgRV1555SbDb7755o2vlyxZwkMPPVTkeQwcOJBx48YV+fMi5YkSVRERKTPr16/fLFEF2GeffZg6dSqzZs3ivvvu45xzzmHChAkADBkyhFNOOSWOcAstKysLgLfeeoudd96Z5557DnffOL4kE1WRLYkSVRERScrChQs5+uij6dq1K127duWjjz4C4LPPPmPvvfemS5cu7L333syaNQsIrbHHHnssRxxxBAcddBBXXHEFH3zwAZ07d+buu+/erPzOnTtz3XXX8cADDwAwdOhQ7rjjDgDuu+8+2rdvT8eOHTnhhBMAWLFiBYMGDaJr16506dKFV155BQgtt/vssw+77747u+++Ox9//DEAv/32G/vuuy+dO3emQ4cOfPDBB0BIMtPT09l999059thjyczMBGDChAl06dKF3XbbjUGDBrFmzRog/JXzDTfcwD/+8Q+ef/55AMaMGcP555/PdtttxyeffALAFVdcwapVq+jcuTP9+vXjiiuu4IcffqBz585cc801ZGZm0qtXL3bffXd22223jfEDPP3003Ts2JFOnTrRv3//zZbVtddey8CBA9mwYUOR16dISnN3PfQod4899tjDy9J7771XpvMraxW5fhW5bu4lU78ZM2ZsNqxSpUreqVOnjY+WLVv62Wef7e7uJ554on/wwQfu7v7zzz97u3bt3N196dKlvm7dOnd3f/vtt/2oo45yd/cnnnjCmzdv7osXL94Y82GHHbZJHRLfu7tPnTrV27Vr58uWLfPrr7/e//3vf7u7e9OmTX316tXu7v7XX3+5u/uVV17po0aN2jhsp5128szMTF+xYoWvWrXK3d2/++47zz5u3HHHHX7jjTe6u/v69et92bJlvnDhQt9nn308MzPT3d1vvfVWHzZsmK9atcpbtGjhs2bNcnf3/v37+9133+3u7ttvv73fdtttG2NeuXKlN23a1FesWOGPPPKIn3vuuRvH1a5de+Prn376yXfddVd3d1+2bJmvW7fOly5d6u7uCxcu9B122ME3bNjgX3/9tbdt29YXLlzo7r5x+Q0YMMCff/55v/TSS33w4MG+YcOGzdafe+7rFZjsKXAM10OPwj50H1UREdlMzZo1mTZt2sb3Tz75JJMnTwbgnXfeYcaMGRvHLVu2jOXLl7N06VIGDBjA7NmzMTPWrVu3cZoDDzyQBg0aFHr+7p7r8I4dO9KvXz/69u1L3759gdASOn78+I2trqtXr2bu3Lk0a9aMc845h2nTplG5cmW+++47ALp27cqgQYNYt24dffv2pXPnzkycOJEZM2bQvXt3ANauXUt6ejqzZs2idevWtG3bFoABAwbw4IMPcsEFFwBw/PHHb4zt1VdfpWfPntSqVYujjz6a4cOHc/fdd1O5cuUC63rVVVfx/vvvU6lSJX755Rf++OMP3n33XY455hgaNWoEsMnyGz58OHvttRcjRowo9DIVKY+UqIqISFI2bNjApEmTqFmz5ibDzz33XHr27MlLL73EnDlz6NGjx8ZxtWvXTmoeU6dOZZdddtls+Guvvcb777/P+PHjGT58ON988w3uzgsvvMDOO++8ybRDhw6lSZMmfPnll2zYsIEaNWoAsO+++/L+++/z2muv0b9/fy699FLq16/PgQceyJgxYzYpIzFZz01ivcaMGcNHH31Eq1atAFi8eDHvvfceBxxwQL5ljB49moULFzJlyhSqVq1Kq1atWL16Ne6e522munbtypQpU/jzzz+T+gEgUt6oj6pIASZNgtGjt2PSpLgjEUkNBx100Mb+o/B3Mrd06VKaN28OhBbYvNStW5fly5fnOX769OkMHz6cs88+e5PhGzZsYN68efTs2ZPbb7+dJUuWkJmZycEHH8z999+/sRV26tSpG+Np2rQplSpVYtSoURsvePr555/ZZpttOOOMMzjttNP44osv6NatGx999BHff/89ACtXruS7776jXbt2zJkzZ+PwUaNGsd9++20W87Jly/jwww+ZO3cuc+bMYc6cOTz44IMbE9+qVatubGHOWf+lS5eyzTbbULVqVd577z1+/vlnAHr16sVzzz3H4sWLAfjzzz83fuaQQw7hiiuu4LDDDst3WYqUd0pURfIxaRL07AkjR7amVy+UrIoQLmiaPHkyHTt2pH379jz88MMAXHbZZVx55ZV07959Y1KYm44dO1KlShU6deq08WKqDz74YOPtqc4++2zuu+8+evXqtcnnsrKyOPnkk9ltt93o0qULF154IVtvvTXXXnst69ato2PHjnTo0IFrr70WgLPOOounnnqKbt268d13321s/czIyKBz58506dKFF154gfPPP5/GjRvz5JNPcuKJJ9KxY0e6devGt99+S40aNXjiiSc49thj2W233ahUqRJDhgzZrE4vvvgi+++/P9WrV9847Mgjj2T8+PGsWbOGwYMHb+y20LBhQ7p3706HDh245ppr6NevH5MnTyYtLY3Ro0fTrl07AHbddVeuvvpq9ttvPzp16sRFF120yTyPPfZYzjjjDPr06cOqVauSXY0i5YLl1Q9IJJWlpaV5dn+50nTNNXDTTeF15cowfDjkuD1ihZCRkbHJadqKpCLXDUqmfjNnzsz1NHsqWL58OXXr1o07jFJTmvXLbb2a2RR3TyuVGYqUArWoiuTjsMOgShUAp2pVqMD5joiISMpRoiqSj/R0eOklqFzZ6dkzvBcREZGyoURVyoyZjTSzBWb2dS7jLjEzN7NGccSWn8MPh6OP/oU334To7jYiIiJSBpSoSll6Ejgk50AzawkcCMwt64AK64QT5lKjBtxwQ9yRiIiIbDmUqEqZcff3gT9zGXU3cBmQslf21a+/jnPOgWefhZkz445GRERky6BEVWJlZn2AX9z9y7hjKcill0Lt2jBsWNyRiIiIbBn0z1SSFDNLB04G9gGaAquAr4HXgGfcfWkSZdUCrgYOKuT0g4HBAE2aNCEjIyOp2IsjMzOTr7/O4MgjW/Pss9tx0EGTadNmRZnNv7RlZmaW6fIsSxW5blAy9atXr17K3jQ+Kysr1tjefvttLr/8crKyshgwYMBm9zItrtKs3+rVqyv0ti9bBt1HVQrNzP4P+BV4BZgMLABqAG2BnsARwF3uPj6fMloBr7p7BzPbDZgArIxGt4jK39Pdf88vlrK6j2q27HtV/vkntGoFBx0E48aV2exLXUW+12hFrhvoPqqlKSsri7Zt2/L222/TokULunbtypgxY2jfvn2JzUP3URXJn1pUJRn93X1RjmGZwBfR485krtp396+AbbLfm9kcIC2XeaSMBg3gwgvDRVXTpkHnznFHJCKJJs2bRMacDHq06kF6y+LdT+6zzz5jxx13pE2bNgCccMIJvPLKKyWaqIpI/pSoSqElJpBm1iAM8r/ymiYnMxsD9AAamdl84Hp3f7yUwi01F14I994LQ4fCyy/HHY3IluGCNy5g2u/T8p1m6ZqlTP9jOht8A5WsEh2bdKRe9Xp5Tt95287cc8g9eY7/5ZdfaNmy5cb3LVq04NNPP002dBEpBl1MJYVmZtuZ2VgzWwh8Cnwe3Rd1bHRKP1/ufqK7N3X3qu7eImeS6u6tUrk1NdvWW8PFF8Mrr8CUKXFHIyLZlq5eygbfAMAG38DS1YXuMp+r3LrGmVmxyhSR5KhFVZLxX+AeoJ+7ZwGYWWXgWGAs0C2+0MrW+efD3XeHVtX//S/uaEQqvvxaPrNNmjeJXk/3Ym3WWqpVrsboo0YX6/R/ixYtmDdv3sb38+fPp1mzZkUuT0SSpxZVSUYjd/9vdpIK4O5Z7j4WaBhjXGVuq63C7apefRU++yzuaEQEIL1lOhNOmcDwnsOZcMqEYvdR7dq1K7Nnz+ann35i7dq1jB07lj59+pRQtCJSGGpRlWRMMbOHgKeA7GaGlsAAYGpsUcXknHPgrrvg+uvh//4v7mhEBEKyWtwENVuVKlV44IEHOPjgg8nKymLQoEHsuuuuJVK2iBSOElVJxinAacAwoDlgwHxgPFDuLooqrrp14bLLwuPjj2HvveOOSERKWu/evendu3fcYYhssXTqXwrN3de6+3/c/RB3383dO0SvH3L3NXHHF4ezzoJttgmtqiIiIlKylKhKoVlwnJkdG73uZWb3mdlZZrZFbku1a8MVV8A778D778cdjYiISMWyRSYXUmQPAscB/YFRwBDCP1TtC9wdY1yxGjIEtt1WraoiIiIlTX1UJRn7uPtuZlYV+B1o6u5rzexZtsCLqbLVrAlXXQXnnQfvvQc9e8YdkYiISMWgFlVJRhaAu68DPnf3tdH79dnjtlRnnAHNm8N110Eu9wgXERGRIlCiKsn4zczqALj7IdkDzWxbYG1sUaWAGjXg6qvhww9Df1UREREpPiWqkowj3D0zl+HLgcPLOphUM2gQbLedWlVFKpJBgwaxzTbb0KFDh7hDEdkiKVGVZHxiZi+b2RAza5U90N1XuPuCGONKCdWrwzXXwCefwBtvxB2NiJSEgQMH8oZ2aJHYKFGVQnP3NOD86O09Zva5md1tZgeZWfU4Y0sVAwdC69ZqVRWJy6RJcMst4bkk7LvvvjRo0KBkChORpOmqf0mKu/8MPAw8HF39vw9wCHCjmS1098NiDTBmVauGVtXTToNXX4Ujjog7IpGK4YILYNq0/KdZuhSmT4cNG6BSJejYEerVy3v6zp3hnntKLkYRKXlqUZUii67+nwo84+57AoNjDikl9O8PO+ygVlWRsrZ0aUhSITwvXRpvPCJSfGpRlaSZWQbQh7D9TAMWmtlEd78ozrhSRdWqIUkdMABefhn++c+4IxIp/wrT8jlpEvTqBWvXQrVqMHo0pKeXemgiUorUoipFUc/dlwFHAU+4+x7AATHHlFJOOgnatg3/VpXdwiMipSs9HSZMgOHDw7OSVJHyT4mqFEUVM2tK+DvVV+MOJhVVqRKS1K++ghdeiDsakS1HejpceWXJJaknnngi6enpzJo1ixYtWvD444+XTMEiUig69S9FcQPwJvChu39uZm2A2THHlHKOPx5uvBGGDoWjjoLKleOOSESSNWbMmLhDENmiqUVVimKCu3d097MA3P1Hdz867qBSTeXKIUmdMQOeey7uaERERMofJapSFJ+a2fNm1tvMLO5gUtkxx0CHDiFhXb8+7mhERETKFyWqUhRtgRFAf+B7M7vZzNoW9CEzG2lmC8zs64Rh/zazb81supm9ZGZbl17YZa9SJRg2DL77DnQGUVKZ615qFYrWp1QUSlQlaR687e4nAqcDA4DPzGyimeV3CcOThD8HSPQ20MHdOwLfAVeWRsxx6ts33Fj8hhvUqiqpqUaNGixevFjJTQXh7ixevJgaNWrEHYpIseliKkmamTUETia0qP4BnAuMBzoDzwOtc/ucu79vZq1yDHsr4e0nwDElH3G8sltVjzwSnnkm/M2qSCpp0aIF8+fPZ+HChXGHspnVq1dX6ISrtOpXo0YNWrRoUeLlipQ1JapSFJOAUUBfd5+fMHyymT1cjHIHAf/Na6SZDSb696smTZqQkZFRjFklJzMzs1jzq1sX2rbdg6uuqkKLFp9RpUpqtVwVt36prCLXDbaM+tWpUyfuMEpNadbv559/LpVyRcqS6VSPJMvMzIu44UQtqq+6e4ccw68G0oCjClN2WlqaT548uSghFElGRgY9evQoVhmvvw6HHQaPPgqnn14ycZWUkqhfqqrIdQPVr7wr6/qZ2RR3TyuzGYoUk/qoSlE0ii6Cet3M3s1+FLUwMxsAHA70K2oCXB4ceijstVf415y1a+OORkREJPUpUZWiGA18S+iLOgyYA3xelILM7BDgcqCPu68sqQBTkVm4oGruXBg5Mu5oREREUp8SVSmKhu7+OLDO3Se6+yCgW0EfMrMxhP6tO5vZfDM7DXgAqAu8bWbTitnHNeUdeCB07w433QSrV8cdjYiISGrTxVRSFOui59/M7DDgV6DAy0uj21nltEX9cXZ2q2qvXvDYY3DOOXFHJCIikrrUoipFcaOZ1QMuBi4BHgMujDek8qNnT9hvP7j5Zli1Ku5oREREUpcSVUmau7/q7kvd/Wt37+nue7j7+LjjKi/Mwn1Vf/sNHnkk7mhERERSlxJVSYqZ9TSzF8zsm+gxzsx6xB1XebPffuH0/y23wIoVcUcjIiKSmpSoSqFF/VFHAq8CJwH9gNeBkWbWO87YyqNhw2DBAvjPf+KOREREJDUpUZVkXEr4N6on3P1Ld5/m7iOBvoRbTEkSuneHgw6C226DzMy4oxEREUk9SlQlGdu6+5c5B7r7dKBJDPGUe8OGwaJF8MADcUciIiKSepSoSjLy602pnpZF0K0b9O4N//43LFsWdzQiIiKpRfdRlWTsYGa5Xd1vQJuyDqaiGDYMunaF++6Da66JOxoREZHUoURVknFkPuPuKLMoKpi0NOjTB+68M/wBwNZbxx2RiIhIalCiKoXm7hPjjqGiGjoUdt8d7rknvBYRERH1URVJCV26wFFHwd13w59/xh2NiIhIalCiKpIihg4NF1TddVfckYiIiKQGJaoiKWK33eC44+Dee8Mtq0RERLZ06qMqhWZm/wM8r/Hu3qcMw6mQrr8enn8e7rgDbr017mhERETipRZVScYdwJ3AT8Aq4NHokQl8HWNcFUb79nDiiXD//eHvVUVERLZkSlSl0Nx9YnTlfxd3P97d/xc9TgL+EXd8FcV118Hq1eFPAERERLZkSlSlKBqb2cYb/JtZa6BxjPFUKDvvDCefDA8+CL//Hnc0IiIi8VGiKkVxIZBhZhlmlgG8B1wQa0QVzLXXwtq1cNttcUciIiISH11MJUlz9zfMbCegXTToW3dfE2dMFc2OO8KAAfCf/8Cll0KzZnFHJCIiUvbUoipFtROwM9AJON7MTok5ngrnmmsgKwtuuSXuSEREROKhRFWSZmbXA/dHj57A7YBuTVXCWreGQYNgxAiYNy/uaERERMqeElUpimOAXsDv7n4qoVW1ekEfMrORZrbAzL5OGNbAzN42s9nRc/3SC7v8ufpqcIebb447EhERkbKnRFWKYpW7bwDWm9lWwAKgTQGfAXgSOCTHsCuACe6+EzAhei+R7baDM86Axx+HOXPijkZERKRsKVGVophsZlsTbvY/BfgC+KygD7n7+8CfOQYfCTwVvX4K6FtiUVYQV14JlSrBTTfFHYmIiEjZMvc8/xFTpEBm1grYyt2nJzH9q+7eIXq/xN23Thj/l7vnevrfzAYDgwGaNGmyx9ixY4sXfBIyMzOpU6dOmc0vp/vv35GXX27O009/SvPmq0u8/LjrV5oqct1A9Svvyrp+PXv2nOLuaWU2Q5Fi0u2pJClmVgXIcnc3s5ZAGvBDWczb3UcAIwDS0tK8R48eZTFbADIyMijL+eW0887w+uvwzjvdeOKJki8/7vqVpopcN1D9yruKXj+R4tKpfyk0MzuD0B/15+j1BMKFVWPN7PIiFvuHmTWNym8alS85NG0K//oXPP00zJ4ddzQiIiJlQ4mqJOMCYAfgH8A9wN7ufgLQBSjqfVTHAwOi1wOAV4oXYsV1+eVQvTrccEPckYiIiJQNJaqSjLXu/pe7zwW+d/dFAO6+Elhb0IfNbAwwCdjZzOab2WnArcCBZjYbODB6L7lo0gTOOQeefRZmzow7GhERkdKnPqqSjJpm1oXwA6da9NqiR42CPuzuJ+YxqlfJhVixXXopPPRQaFUdMybuaEREREqXElVJxu/AXbm8zn4vpaxxYzjvPLj11vBnAB06xB2RiIhI6VGiKoXm7j3ijkHg4ovhgQdg2DB4/vm4oxERESk96qMqhWZm/yhg/FZmpja+UtawIVxwAYwbB19+GXc0IiIipUeJqiTjaDP72MyuM7PDzGxPM9vXzAaZ2SjgVaBm3EFuCS68EOrVg6FD445ERESk9OjUvxSau19oZvUJ9049FmgKrAJmAo+4+4dxxrclqV8fLroIrr8epkyBPfaIOyIREZGSp0RVkuLufwGPRg+J0fnnwz33hFbV//0v7mhERERKnk79i5RT9erBJZfAq6/CZ5/FHY2IiEjJU6IqUo6de264uOr66+OOREREpOQpURUpx+rWhcsugzfegEmT4o5GRESkZClRlSIxs73N7CQzOyX7EXdMW6qzzw5/BKBWVRERqWiUqErSoltR3QH8A+gaPdJiDWoLVrs2XHEFvP02fPBB3NGIiIiUHF31L0WRBrR3d487EAmGDIF//zu0qr77btzRiIiIlAy1qEpRfA1sG3cQ8rdateDKK+G998JDRESkIlCiKoVmZv8zs/FAI2CGmb1pZuOzH3HHt6UbPBiaNQutqmrrFhGRikCn/iUZd8QdgOStRg24+upwcdWECXDAAXFHJCIiUjxqUZVCc/eJ7j4R6J39OnFY3PEJnHYatGwJ112nVlURESn/lKhKURyYy7BDyzwK2Uz16nDNNeGeqm++GXc0IiIixaNEVQrNzP5lZl8BO5vZ9ITHT8D0uOOTYOBA2H57taqKiEj5p0RVkvEscAQwPnrOfuzh7ifHGZj8rVo1uPZa+PxzeO21uKMREREpOiWqkozKwDLgbGB5wgMzaxBjXJLDKadAmzZqVRURkfJNV/1LMqYA2WmP5RjnQJuyDUfyUrVqSFIHDoRXXoG+feOOSEREJHlqUZVCc/fW7t4merTO8ShWkmpmF5rZN2b2tZmNMbMaJRX3lqpfP9hpp3Bf1Q0b4o5GREQkeUpUpUjMrL6Z7Wlm+2Y/ilFWc+A8IM3dOxC6GJxQUrFuqapUCUnq9Onw4otxRyMiIpI8JaqSNDM7HXgfeBMYFj0PLWaxVYCaZlYFqAX8WszyBDjhBGjXLiSsWVlxRyMiIpIcc11pIUmKblHVFfjE3TubWTtgmLsfX4wyzwduAlYBb7l7v1ymGQwMBmjSpMkeY8eOLerskpaZmUmdOnXKbH4l6d13GzN8+K5ce+0M9t9/Qa7TlOf6FaQi1w1Uv/KurOvXs2fPKe6eVmYzFCkmJaqSNDP73N27mtk0YC93X2Nm09y9cxHLqw+8ABwPLAGeB8a5+zN5fSYtLc0nT55clNkVSUZGBj169Ciz+ZWkDRugY0dYvx6++QYqV958mvJcv4JU5LqB6lfelXX9zEyJqpQrOvUvRTHfzLYGXgbeNrNXKN6p+gOAn9x9obuvA14E9i52lAJApUowbBjMmgVjxsQdjYiISOEpUZWkufs/3X2Juw8FrgUeB/oWo8i5QDczq2VmBvQCZhY7UNnon/+ETp1Cwrp+fdzRiIiIFI4SVSkSM/uHmZ3q7hOBSUDzopbl7p8C44AvgK8I2+WIEglUgL9bVb//Hp7Js0OFiIhIalGiKkkzs+uBy4Ero0FVgWKlP+5+vbu3c/cO7t7f3dcUN07ZVJ8+sPvucMMNsG5d3NGIiIgUTImqFMU/gT7ACgB3/xWoG2tEUiCzkKT+9BM8/XTc0YiIiBRMiaoUxVoPt4twADOrHXM8Uki9e8Oee8Lw4bB2bdzRiIiI5E+JqhTFc2b2CLC1mZ0BvAM8GnNMUgjZrao//wxPPBF3NCIiIvlToipJc/c7CBc/vQDsDFzn7vfHG5UU1kEHwd57w403whr1BBYRkRSmRFWKxN3fdvdL3f0Sd3877nik8LJbVefPh8ceizsaERGRvClRlaSZ2VFmNtvMlprZMjNbbmbL4o5LCm///WHffeHmm2HVqrijERERyV2VuAOQcul24Ah31035y6nsVtUePeDKK2HFiu2oXh3S0+OOTERE5G9KVKUo/lCSWv7ttx/ssQfcey+YtWbUKLjzTkhLg5o1oUaN8Jz4unLluKMWEZEtiRJVKTQzOyp6OdnM/gu8DGy8HMfdX4wjLim6tDSYMgXcjTVr4Jxz8p++SpXNk9fE14UdlsxnqlcP/6xVFJMmwejRai0WESmvlKhKMo5IeL0SOCjhvQNKVMuZAQPgqadg7VqnalXjjjugTZvQb3X16k2fCzNs4cK8xxdH9erJJ8R//gljx0JWVmtGj4YJE5SsioiUN0pUpdDc/dS4Y5CSlZ4O774LI0f+xKBBbUotkXMPfzBQ2IQ357CCxv/11+bDMjMhKwvAWLUKhg2DF16A2vp7ChGRckOJqsgWLj0d1qyZS3p6m1Kbh1loFa1eHbbeutRms4lJk6BXL1izxgHjzTehdWu44gr4179Cy6uIiKQ23Z5KRCqk9PRwun/QoJ/48EP4+GPo1Akuvhh22AEeeEB/eCAikuqUqIpIhZWeDv36zSU9Pbx++22YOBF22gnOPTc8jxgB69bFHamIiORGp/6l0MzsovzGu/tdZRWLSFHtuy9kZIS+uddeC2eeCbfeCtddByefHO5sICIiqUEtqpKMugU8RMoFs9B/9aOP4PXXoWFDOPVUaN8eRo/OvghLRETiprYDKTR3HxZ3DCIlyQwOPRQOOQTGj/+7VfXmm2HoUDj66KLfw1VERIpPh2BJmpnVMLOzzewhMxuZ/Yg7LpGiMoMjj4SpU+G558LttI47Drp0gVdeCe9FRKTsKVGVohgFbAscDEwEWgDLY41IpARUqgTHHgtffRW6AKxaBX37wp57wv/9nxJWEZGypkRVimJHd78WWOHuTwGHAbvFHJNIialcGU46CWbMgCeegMWLoXdv6N4d3nlHCauISFlRoipFkX0znyVm1gGoB7SKLxyR0lGlCgwcCLNmwSOPwPz5cOCB0KMHvP9+3NGJiFR8SlSlKEaYWX3gGmA8MAO4rTgFmtnWZjbOzL41s5lmpn9ll5RRtSoMHgyzZ8P994fn/fYLSeukSXFHJyJScSlRlaKY4O5/ufv77t7G3bcB3ipmmfcCb7h7O6ATMLPYUYqUsOrV4Zxz4Icf4K67YPp02Hvv0C1gypS4oxMRqXiUqEpRvJDLsHFFLczMtgL2BR4HcPe17r6kqOWJlLaaNeHCC+HHH8OfBXz6KaSlhQuvpk+POzoRkYrDXFcFSCGZWTtgV+B24NKEUVsBl7r7rkUstzMwgtCFoBMwBTjf3VfkmG4wMBigSZMme4wdO7YosyuSzMxM6tSpU2bzK2sVuX5lUbcVKyrzwgsteO65lqxYUYX99lvAwIFzaNVqZanOFyr2ugPVr6T17NlzirunldkMRYpJiaoUmpkdCfQF+hD6pmZbDox194+LWG4a8AnQ3d0/NbN7gWXRnQVylZaW5pMnTy7K7IokIyODHj16lNn8ylpFrl9Z1u2vv0KXgHvugRUrwp0DrrsO2rYtvXlW5HUHql9JMzMlqlKu6NS/FJq7v+LupwKHu/upCY/zipqkRuYD89390+j9OGD3YgcsUsbq14fhw+Gnn+Cyy+Cll8Lfsp56ahgmIiLJUaIqRfG9mV1lZiNK4p+p3P13YJ6Z7RwN6kXoBiBSLjVqFPqu/vgjnHcejB0bWlXPPBPmzYs7OhGR8kOJqhTFK4R7p74DvJbwKI5zgdFmNh3oDNxczPJEYtekSegK8MMPIUl94gnYcUc491z47be4oxMRSX1KVKUoarn75e7+nLu/kP0oToHuPs3d09y9o7v3dfe/SipYkbg1awYPPADffw8DBsDDD0ObNnDxxbBgQdzRiYikLiWqUhSvmlnvuIMQKW+22w5GjAj/dHXCCeGiq9at4Yorwt+0iojIppSoSlGcT0hWV5vZMjNbbmbL4g5KpLxo0yZ0A5g5M9x79fbbQ8J63XWwZEnc0YmIpA4lqpI0d6/r7pXcvYa7bxW93yruuETKm7ZtYfRo+OorOPjgcMeA1q3hxhth+fK4oxMRiZ8SVUmaBSeb2bXR+5ZmtmfccYmUV7vuCs8/D1Onwr77wrXXhoT19tvD/VhFRLZUSlSlKB4C0oGToveZwIPxhSNSMXTuDK+8Ap99BnvuCZdfHroJ3H03rFoVd3QiImVPiaoUxV7ufjawGiC6Qr9avCGJVBxdu8Lrr8NHH8Fuu8FFF4XbWj34IKxZE3d0IiJlR4mqFMU6M6sMOICZNQY2xBuSSMWz997wzjuQkQE77ADnnAM77QSPPgrr1sUdnYhI6VOiKkVxH/ASsI2Z3QR8SAW+Qf97P73H6J9HM2nepLhDkSRNmjeJ0XPL/7rbbz+YOBHeeivck3XwYGjXLvRlHTVqOyaV7+qJiOSpStwBSPnj7qPNbArhr04N6OvuM2MOq1R8PPdj9n96fwAeH/k4OzXYiVb1W9G4VmMa1WpE41qNaVx709eNazWmfs36VDL9Dixt6zes569Vf7F41WIWr1y8yfP036fz7NfPkuVZjJo7igmnTKD7dt3jDrnIzODAA+GAA0K3gIsuCncHgNaMHAn160ONGlC5MlSpsulzbsPyG5cq08+YARMntqJ6dUhPj3sNiEgclKhKoZlZg4S3C4AxiePc/c+yj6p0vTfnPQzDQy8HzIwlq5cwe/FsFq1cxPK1ud9DqJJVomHNhpsmsbkktdmvG9VqRPUq1cuyailn5bqVmyWbi1cuZtHKReF1LsnoktVL8iyvklVig4ceKWuy1tBnbB8u7345AzsPZJva25RRrUqeGRx2GHz5ZWhR3bDBMAtdAjp1gvXrISsrPLJf53zOfr12bXLT5zVsQ6l2/NmeZ58Nd0Xo27c05yMiqUiJqiRjETAfWB+9t4RxDrQp84hK2f6t9+emD25izfo1VK9SnSeOfIL0ln837axev5pFKxexcMXC8Lxy4aavo/czFs5g4cqFLF65eGPSm9NW1bfKvZU2u/W29qbJbt1qdTGzXMuK0wbfwJLVSzZLKhetXPT3sFySztXrV+dZZp1qdWhYsyENazWkYc2GtKnfJryPhjWq1WiT8Q1rNeTrP77mgFEHsGb9GqpUrkLLrVpy+TuXc8271/DPXf7JmXucSc9WPVNyGRZGz55QvTqsWbOB6tUrcc898bU6uieX2BYmOX72WXj66ZCIr18PRx8NJ58Ml10WbuclIlsGc8/9S1MkJzO7F+gBfERoTf3QY9qA0tLSfPLkyWUyr0nzJjHyvZEM6jlokyS1KLI2ZPHX6r9YuGLh5kntioUsWrVo47jsBHhNVu6XeVerXG3zJDbH+8TXDWo2oHKlyknVb836NXm3cOaRdP61+q+NLZk5VbJKNKjZYPMEM0eSmfjcoGaDIrc256zbzIUzGTFlBE99+RR/rf6LnRrsxOA9BjOg0wAa125cpHnEadIkGDnyRwYNalPhTo1PmgS9eoVEvFq1SvTpA6++CitXwhFHhFt3dS+/PTk2ysjIoEePHmU2PzOb4u5pZTZDkWJSoipJsdD81AM4EdgTeAv4j7v/VJZxlGWiCmX/ZZLN3clcm7lJ4przdc73y9bk/m+2htGgZoNNktgNGzbw2vevsX7DeipbZbo07ULWhqyNSeeKdXnfbb5W1Vq5J5j5JJ31atQr8767ua27VetWMW7GOEZ8MYIP535ItcrVOGqXozhzjzPZb/v9ylUra1zbZlnImYgvXhxu0XXffeF19+4hYT3sMKhUTruEK1EVyZ9O/UtSohbU98xsKnACMByYDTwaa2AVlJlRt3pd6lavS5v6hetZsTZrba7dETYmtNH77xZ/x5wlc1i/IfTkyPIs/sj8g45NOrJbk90KTDprVq1ZmlUvVTWr1qR/p/7079SfbxZ8w4gpI3h6+tOM/XosbRu2ZfDugxnQeQCNajWKO9QtWno6rFkzl/T0sO03bAjXXQeXXAIjR8Idd0CfPqErwGWXwYknQtWqMQctIiVKiaoUmpnVBo4EjgcaAy8Cu7v7vFgDk01Uq1yNZnWb0axuswKnnTRvEr2e7rWxD+5/j/lvsbs3lDe7brMr9x56L7cecCvPz3ieR6Y8wiVvX8JV717FMe2PYfDug9l3+33LVStrRVerVrin7JlnwnPPwW23wYABcM014W4Ip58OderEHaWIlIRyerJEYrIAuAz4GLgT+BHoamZHmdlRsUYmRZLeMp0Jp0xgUOtBTDhlwhaXpCaqWbUmp3Q6hY8GfcRX//qKM/c4k9e+e40eT/Wg/UPtuXvS3SxeuTjuMCVB1arQr1+4A8Lrr0Pr1nDhhbDddqHldeHCuCMUkeJSoirJeB6YCrQDDgeOSHgcHmNcUgzpLdPpt12/LTpJzanDNh2479D7+PXiX3niyCfYusbWXPTWRTS/qzknv3gyH/z8AerfnzrM4NBDw58iTJoU/iBh+HDYfvvQ8vpTmfagF5GSpFP/UmjuPjDuGETKUq2qtRjYeSADOw9k+h/TGTFlBKOmj2L0V6PZpdEuDN5jMKd0OoUGNRsUXJiUiW7d4KWX4Ntv4d//hhEj4OGH4fjjQz/WTp3ijlBEkqEWVRGRQujYpCMP9H6AXy/6lcf7PM5W1bfiwjcvpPldzTnlpVP4aO5HamVNIe3aweOPh9bUCy6A8eOhc+e/W161qkTKByWqIiJJqF2tNoO6DOKT0z9h6plTObXzqbz87cv844l/sNt/duO+T+/jr1V/xR2mRJo3D3cHmDsXbroJvvgCevQIdxR46aXS/lctESkuJaoiIkXUedvOPHTYQ/x68a88dsRj1Kpai/PfOJ9mdzVjwMsD+Hjex2plTRH168NVV8GcOfCf/4QLrY46Ctq3Dy2va3L/Xw0RiZkSVSkSM9vbzE4ys1OyHyVQZmUzm2pmr5ZEjCJlpU61Opy2+2l8dsZnfDH4CwZ0GsCLM1+k+8judHy4Iw989gBLVi+JO0wBataEIUNg1iwYOzbc6ur006FNm9Dyuiz3/8sQkZgoUZWkmdko4A7gH0DX6FES/3RyPjCzBMoRiU2Xpl14+PCH+e3i3xhx+AiqV67Ouf93Ls3ubMapr5zKJ/M/UStrCqhSJVxgNWUKvPUW7LILXHppuLXVVVfBH3/EHaGIgBJVKZo0oLu7n+Xu50aP84pToJm1AA4DHiuRCEViVqdaHc7Y4wwmD57M5DMm079jf8bNGEf64+l0fqQzD372IEtXL407zC2eGRx4ILzzDnz+eXh9663h1lZDhsD338cdociWzfTLXpJlZs8D57n7byVY5jjgFqAucIm7b3ZfVjMbDAwGaNKkyR5jx44tqdkXKDMzkzoV+K9uKnL9UqluK9ev5J0F7/Dqb68yO3M2NSrVoOc2PTm86eHsUneXIv37VSrVrzTEUb/582vy3/+25M03tyUry9h334WceOJc2rbNLPF5lXX9evbsOcXdS+IMmEiZUKIqSTOz94DOwGfAxksQ3L1PEcs7HOjt7meZWQ/ySFQTpaWl+eTJk4syuyLJyMigR48eZTa/slaR65eqdZv862QemfwIY74ew4p1K+jUpBNn7nEm/Tr2Y6vqWxW6nFStX0mJs36//w733gsPPRT6rh5wAFx+OfTqFVpiS0JZ18/MlKhKuaJT/1IUQ4G+wM2Ev1LNfhRVd6CPmc0BxgL7m9kzxQtRJLWlNUvj0T6P8uvFv/Kfw/6DmXHW62fR9M6mnD7+dD7/5XP1ZY3ZttvCLbeEW1vddht8803oGtC1Kzz3HGRlxR2hSMWnRFWS5u4Tc3sUo7wr3b2Fu7cCTgDedfeTSyxgkRS2VfWtGJI2hC8Gf8Gnp3/KCbuewJivx7DnY3uyx4g9eHjywyxfszzuMLdo9eqFf7X66Sd49FFYvjxciNWuHTzyCKxeHXeEIhWXElVJmpl1M7PPzSzTzNaaWZaZ6aYuIsVgZuzZfE8eP/Jxfr3oVx7s/SBZnsW/XvsXTe9syuD/DWbKr1PiDnOLVr16uJXVjBnwwgvh3qxDhkCrVqHldcmSuCMUqXiUqEpRPACcCMwGagKnR8OKzd0zCuqfKlLR1atRj7O6nsW0M6cx6bRJHLfrcTwz/RnSHk0jbUQaI6aMYPma5UyaN4nRc0czad6kuEMuFalav8qVw58FfPopvPtu+GvWq64Kt7a69FL49de4IxSpOKrEHYCUT+7+vZlVdvcs4Akz+zjumEQqGjOjW4tudGvRjbsOvotnpj/DI1Me4cxXz+SCNy5gbdZaNvgGRs0dxS29bqFdo3Y4jrsX+AwUeto4yvx56c+MnDqS9RvWM3reaCacMoH0lulxro7NmEHPnuExdSrcfjvcdRfcdx/07x+S1p13jjtKkfJNiaoUxUozqwZMM7Pbgd+A2jHHJFKhbV1ja87Z8xzO7no2n8z/hHNeP4cvfv8CgDVZa7jorYtijrD0rFq/itP/dzpX73M1h7c9PKm7IpSVLl1gzBi46Sa4804YOTI8+vYNdwrYa6+4IxQpn5SoSlH0J3QbOQe4EGgJHB1rRCJbCDMjvWU6D/R+gF5P92LN+jVUrVyV+w69j45NOmIYZpb0M1Dkz5ZGmZ/O/5RDRx/KmvVrqFSpEgtWLKDfi/2oXrk6B+94MMe2P5Yj2h5BvRr14lwdm2nTBh58EK6/Hu6/P7x+6SXo0SMkrAcfXHK3thLZEihRlaS5+89mVhNo6u7D4o5HZEuU3jKdCadMYOR7IxnUc1DKnRYvrv1a7bdJ/fZqsReT5k1i3IxxjJs5jvGzxlOtcjUObHMgx7Y/lj4796F+zfpxh73RNtvA8OHhbgGPPRZaWQ89FDp1CsOOOy78jauI5E+7iSTNzI4A7gCqAa3NrDNwQ1Fv+C8iRZPeMp01262pcElqtpz1675dd7pv1507D76Tz375jOe/eZ5xM8fx2uzXqFqpKge0OYBj2h9D33Z9aVCzQczRB3XrwoUXwtlnw7PPhn6s/frB1VeHC7L+/HN7qleH9Iq5CkWKTVf9S1EMBfYElgC4+zSgVWzRiMgWpZJVoluLbtx58J3MOX8On57+KRd0u4CZi2Zy2vjTaHJHEw5+5mAenfIoi1YuijtcAKpVg4ED4euv4ZVXQgJ7113w5JOt6NULJqXWjQ1EUoYSVSmK9e6+NO4gRESy7z97+4G38+N5PzL5jMlckn4JP/z5A4NfHcy2d2zLAU8fwCOTH2HBigVxh0ulStCnD5x4YngNxtq1kJERc2AiKUqJqhTF12Z2ElDZzHYys/sB3Z5KRGJlZuzRbA9uOeAWZp87m6lnTuXy7pczd+lchrw2hKZ3NmX/p/bnoc8f4vfM32ONtUeP8AcClSptoFq18F5ENqdEVYriXGBXYA0wBlgGXBBnQCIiicyMztt25qZeNzHrnFl8OeRLrt7nan7L/I2zXz+bZnc2Y78n9+P+T+/n1+Vlf4f+9HSYMAEGDZrDhAnqoyqSF11MJUlz95XA1dFDRCSlmRkdm3SkY5OO3NDzBr5Z8A3jZozj+RnPc94b53H+G+ezd8u9Obb9sRzd/mhabNWiTOJKT4c1a+aSnt6mTOYnUh4pUZVCM7Px+Y3XVf8iUh7sus2u7LrNrlzf43pmLpy58ZZXF7x5ARe8eQHpLdI5pv0xHNP+GLart13c4Yps0ZSoSjLSgXmE0/2fArpttYiUa7s03oVr97uWa/e7lu8Wf7expfXity7m4rcuZs/me3LMLiFpbV2/ddzhimxx1EdVkrEtcBXQAbgXOBBY5O4T3X1irJGJiBRT24ZtuWqfq5h65lRmnzubW3vdStaGLC575zLa3NeGtBFp3Pbhbfzw5w9xhyqyxVCiKoXm7lnu/oa7DwC6Ad8DGWZ2bsyhiYiUqB0b7Mjl/7icyYMn8+N5P3L7AbdTuVJlrphwBTvevyO7P7I7N39wM7MXz447VJEKTYmqJMXMqpvZUcAzwNnAfcCL8UYlIlJ6WtdvzaXdL+XT0z9lzvlzuPOgO6lepTpXv3s1bR9oS6eHO3Hj+zfy7aJv4w5VpMJRoiqFZmZPEe6XujswzN27uvtwd/8l5tBERMrE9ltvz0XpFzHptEnMvWAudx98N3Wr1eXa965llwd3ocNDHRiWMYxvFnwTd6giFYISVUlGf6AtcD7wsZktix7LzWxZzLGJiJSplvVackG3C/hw0IfMv3A+9x1yHw1rNWTYxGF0+E8H2j/Ynuveu47pf0zH3eMOV6RcUqIqhebuldy9bvTYKuFR1923ijs+EZG4NN+qOefudS4TB07kl4t+4cHeD9KkThNu+uAmOj3ciXYPtuPqCVcz7fdpSlpFkqDbU4mIiJSgpnWbclbXszir61n8kfkHL337EuNmjOPWj27l5g9vZscGO3LMLsfQtmFbPv75Y6rPq056S/01lUhulKiKiIiUkiZ1mjAkbQhD0oawcMVCXv72ZZ6f8Ty3f3Q7G9gAwOinRzPhlAlKVkVyoVP/IiIiZaBx7cacsccZvNX/La7a5yos+s+UtVlryZiTEW9wIilKiarEzsxamtl7ZjbTzL4xs/PjjklEpDT13qk3NarUoBKVqFa5Gj1a9Yg7JJGUpERVUsF64GJ334XwRwJnm1n7mGMSESk16S3TmXDKBAa1HqTT/iL5UB9ViZ27/wb8Fr1ebmYzgebAjFgDExEpRekt01mz3RolqSL5MN0mQ1KJmbUC3gc6uPuyHOMGA4MBmjRpssfYsWPLLK7MzEzq1KlTZvMraxW5fhW5bqD6lXdlXb+ePXtOcfe0MpuhSDEpUZWUYWZ1gInATe6e79+ypqWl+eTJk8smMCAjI4MePXqU2fzKWkWuX0WuG6h+5V1Z18/MlKhKuaI+qpISzKwq8AIwuqAkVURERLYMSlQldmZmwOPATHe/K+54REREJDUoUZVU0B3oD+xvZtOiR++4gxIREZF46ap/iZ27fwjRna9FREREImpRFREREZGUpERVRERERFKSElURERERSUlKVEVEREQkJSlRFREREZGUpERVRERERFKSElURERERSUlKVEVEREQkJZm7xx2DSNLMbCHwcxnOshGwqAznV9Yqcv0qct1A9Svvyrp+27t74zKcn0ixKFEVKQQzm+zuaXHHUVoqcv0qct1A9SvvKnr9RIpLp/5FREREJCUpURURERGRlKREVaRwRsQdQCmryPWryHUD1a+8q+j1EykW9VEVERERkZSkFlURERERSUlKVEVEREQkJSlRFcmHmY00swVm9nXcsZQ0M2tpZu+Z2Uwz+8bMzo87ppJkZjXM7DMz+zKq37C4YyppZlbZzKaa2atxx1IazGyOmX1lZtPMbHLc8ZQkM9vazMaZ2bfRPpged0wiqUh9VEXyYWb7ApnA0+7eIe54SpKZNQWauvsXZlYXmAL0dfcZMYdWIszMgNrunmlmVYEPgfPd/ZOYQysxZnYRkAZs5e6Hxx1PSTOzOUCau1e4G/6b2VPAB+7+mJlVA2q5+5KYwxJJOWpRFcmHu78P/Bl3HKXB3X9z9y+i18uBmUDzeKMqOR5kRm+rRo8K88vczFoAhwGPxR2LJMfMtgL2BR4HcPe1SlJFcqdEVUQws1ZAF+DTmEMpUdGp8WnAAuBtd69I9bsHuAzYEHMcpcmBt8xsipkNjjuYEtQGWAg8EXXdeMzMascdlEgqUqIqsoUzszrAC8AF7r4s7nhKkrtnuXtnoAWwp5lViO4bZnY4sMDdp8QdSynr7u67A4cCZ0ddcSqCKsDuwH/cvQuwArgi3pBEUpMSVZEtWNR38wVgtLu/GHc8pSU6rZoBHBJvJCWmO9An6sM5FtjfzJ6JN6SS5+6/Rs8LgJeAPeONqMTMB+YntPCPIySuIpKDElWRLVR0sdHjwEx3vyvueEqamTU2s62j1zWBA4BvYw2qhLj7le7ewt1bAScA77r7yTGHVaLMrHZ0kR/RafGDgApx9w13/x2YZ2Y7R4N6ARXiIkaRklYl7gBEUpmZjQF6AI3MbD5wvbs/Hm9UJaY70B/4KurHCXCVu78eX0glqinwlJlVJvwof87dK+RtnCqoJsBL4fcUVYBn3f2NeEMqUecCo6Mr/n8ETo05HpGUpNtTiYiIiEhK0ql/EREREUlJSlRFREREJCUpURURERGRlKREVURERERSkhJVEREREUlJSlRFpNwysywzm5bw2Ozffcysh5mV6G2pojL3Tng/xMxOKYFyW5lZid4rtDTKFBEpK7qPqoiUZ6uiv0gtaz2ATOBjAHd/OIYYREQqPLWoikiFY2aHmNm3ZvYhcFTC8KFmdknC+6/NrFX0+hQzm25mX5rZqGjYEWb2qZlNNbN3zKxJNP0Q4MKoFXefxHLNrLOZfRKV9ZKZ1Y+GZ5jZbWb2mZl9Z2b7FFCHymb2bzP7PCrrzGj4f82sd8J0T5rZ0XlNLyJSnilRFZHyrGaOU//Hm1kN4FHgCGAfYNuCCjGzXYGrgf3dvRNwfjTqQ6Cbu3cBxgKXufsc4GHgbnfv7O4f5CjuaeByd+8IfAVcnzCuirvvCVyQY3huTgOWuntXoCtwhpm1juI4Poq7GuHvN1/PZ3oRkXJLp/5FpDzb7NS/mXUGfnL32dH7Z4DBBZSzPzDO3RcBuPuf0fAWwH/NrClQDfgpv0LMrB6wtbtPjAY9BTyfMMmL0fMUoFUBMR0EdDSzY6L39YCdgP8D7jOz6sAhwPvuvsrM8pr+uwLmIyKSspSoikhFlNd/Q69n0zNJNaJny+Mz9wN3uft4M+sBDC1mXGui5ywKPv4acK67v7nZCLMM4GBCy+qY/KbP7togIlIe6dS/iFQ03wKtzWyH6P2JCePmALsDmNnuQPap8QnAcWbWMBrXIBpeD/glej0goZzlQN2cM3b3pcBfCf1P+wMTc05XSG8C/zKzqlFMbc2sdjRuLHAqoWvDm4WYXkSkXFKLqoiUZzXNbFrC+zfc/QozGwy8ZmaLCP1MO0TjXwBOiT7zOdFpcXf/xsxuAiaaWRYwFRhIaEF93sx+AT7h78T2f8A4MzsSODdHTAOAh82sFvAjIaEsiscI3QO+MDMDFgJ9o3FvEfrCjnf3tYWYXkSkXDL3vM6QiYiIiIjER6f+RURERCQlKVEVERERkZSkRFVEREREUpISVRERERFJSUpURURERCQlKVEVERERkZSkRFVEREREUtL/AwiZYXAESDNKAAAAAElFTkSuQmCC\n",
=======
      "image/png": "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\n",
>>>>>>> andriani
      "text/plain": [
       "<Figure size 432x288 with 1 Axes>"
      ]
     },
     "metadata": {
      "needs_background": "light"
     },
     "output_type": "display_data"
    },
    {
     "name": "stdout",
     "output_type": "stream",
     "text": [
      "15\n",
<<<<<<< HEAD
      "4\n",
      "1\n",
      "0\n",
      "66\n",
      "19\n",
=======
      "    group1  group2      Diff     Lower     Upper    q-value  p-value\n",
      "0        4       6  1.337912  1.232570  1.443254  51.184588    0.001\n",
      "1        4       3  1.649576  1.418569  1.880584  28.777925    0.001\n",
      "3        4       2  1.490835  1.150705  1.830965  17.664343    0.001\n",
      "4        4       1  2.910771  1.319424  4.502117   7.371501    0.001\n",
      "5        6       3  2.987488  2.762864  3.212112  53.599734    0.001\n",
      "6        6       5  1.315154  1.213274  1.417035  52.023160    0.001\n",
      "7        6       2  2.828747  2.492920  3.164574  33.946174    0.001\n",
      "8        6       1  4.248682  2.658250  5.839115  10.765935    0.001\n",
      "9        3       5  1.672334  1.442884  1.901784  29.372991    0.001\n",
      "12       5       2  1.513593  1.174519  1.852667  17.989837    0.001\n",
      "13       5       1  2.933528  1.342407  4.524649   7.430186    0.001\n",
      "1\n",
      "   group1  group2      Diff     Lower     Upper    q-value  p-value\n",
      "0       0       1  1.640016  1.542013  1.738018  46.384996    0.001\n",
      "66\n",
      "    group1  group2       Diff     Lower      Upper    q-value  p-value\n",
      "0   (0, 4)  (0, 6)   1.219678  1.092322   1.347034  44.262944    0.001\n",
      "1   (0, 4)  (0, 3)   1.500828  1.211031   1.790626  23.935918    0.001\n",
      "3   (0, 4)  (0, 2)   1.222313  0.789343   1.655283  13.047831    0.001\n",
      "5   (0, 4)  (1, 4)   1.519571  1.223171   1.815970  23.695046    0.001\n",
      "7   (0, 4)  (1, 3)   3.431406  2.825068   4.037743  26.156027    0.001\n",
      "8   (0, 4)  (1, 5)   1.469648  1.163062   1.776233  22.155177    0.001\n",
      "9   (0, 4)  (1, 2)   3.557406  2.689477   4.425335  18.943632    0.001\n",
      "10  (0, 4)  (1, 1)  10.924927  6.459590  15.390263  11.307804    0.001\n",
      "11  (0, 6)  (0, 3)   2.720506  2.438914   3.002098  44.652275    0.001\n",
      "12  (0, 6)  (0, 5)   1.233701  1.111471   1.355930  46.649465    0.001\n",
      "13  (0, 6)  (0, 2)   2.441991  2.014469   2.869512  26.399773    0.001\n",
      "14  (0, 6)  (0, 1)   2.744605  0.746726   4.742483   6.349281    0.001\n",
      "15  (0, 6)  (1, 4)   2.739249  2.450867   3.027630  43.901362    0.001\n",
      "16  (0, 6)  (1, 6)   0.948375  0.652807   1.243942  14.829878    0.001\n",
      "17  (0, 6)  (1, 3)   4.651083  4.048625   5.253542  35.681329    0.001\n",
      "18  (0, 6)  (1, 5)   2.689325  2.390484   2.988167  41.592667    0.001\n",
      "19  (0, 6)  (1, 2)   4.777084  3.911860   5.642307  25.518107    0.001\n",
      "20  (0, 6)  (1, 1)  12.144605  7.679793  16.609416  12.571705    0.001\n",
      "21  (0, 3)  (0, 5)   1.486805  1.199224   1.774387  23.894979    0.001\n",
      "25  (0, 3)  (1, 6)   1.772131  1.378275   2.165988  20.795604    0.001\n",
      "26  (0, 3)  (1, 3)   1.930577  1.274285   2.586869  13.595775    0.001\n",
      "28  (0, 3)  (1, 2)   2.056578  1.153043   2.960113  10.519964    0.001\n",
      "29  (0, 3)  (1, 1)   9.424098  4.951705  13.896492   9.738986    0.001\n",
      "30  (0, 5)  (0, 2)   1.208290  0.776800   1.639780  12.942381    0.001\n",
      "32  (0, 5)  (1, 4)   1.505548  1.211315   1.799781  23.649214    0.001\n",
      "34  (0, 5)  (1, 3)   3.417383  2.812101   4.022664  26.094580    0.001\n",
      "35  (0, 5)  (1, 5)   1.455625  1.151133   1.760117  22.094663    0.001\n",
      "36  (0, 5)  (1, 2)   3.543383  2.676192   4.410575  18.885002    0.001\n",
      "37  (0, 5)  (1, 1)  10.910904  6.445711  15.376097  11.293652    0.001\n",
      "40  (0, 2)  (1, 6)   1.493616  0.985085   2.002147  13.574867    0.001\n",
      "41  (0, 2)  (1, 3)   2.209093  1.478203   2.939982  13.969345    0.001\n",
      "43  (0, 2)  (1, 2)   2.335093  1.376002   3.294184  11.252742    0.001\n",
      "44  (0, 2)  (1, 1)   9.702614  5.218667  14.186561  10.000971    0.001\n",
      "50  (0, 1)  (1, 1)   9.400000  4.509752  14.290248   8.884047    0.001\n",
      "51  (1, 4)  (1, 6)   1.790874  1.392135   2.189613  20.758207    0.001\n",
      "52  (1, 4)  (1, 3)   1.911835  1.252601   2.571069  13.403705    0.001\n",
      "54  (1, 4)  (1, 2)   2.037835  1.132162   2.943509  10.399471    0.001\n",
      "55  (1, 4)  (1, 1)   9.405356  4.932530  13.878182   9.718677    0.001\n",
      "56  (1, 6)  (1, 3)   3.702709  3.040300   4.365117  25.834940    0.001\n",
      "57  (1, 6)  (1, 5)   1.740951  1.334582   2.147319  19.800698    0.001\n",
      "58  (1, 6)  (1, 2)   3.828709  2.920722   4.736697  19.488864    0.001\n",
      "59  (1, 6)  (1, 1)  11.196230  6.722935  15.669525  11.567997    0.001\n",
      "60  (1, 3)  (1, 5)   1.961758  1.297882   2.625634  13.657536    0.001\n",
      "62  (1, 3)  (1, 1)   7.493521  2.989527  11.997515   7.689569    0.001\n",
      "63  (1, 5)  (1, 2)   2.087758  1.178700   2.996817  10.614570    0.001\n",
      "64  (1, 5)  (1, 1)   9.455279  4.981766  13.928792   9.768763    0.001\n",
      "65  (1, 2)  (1, 1)   7.367521  2.820915  11.914126   7.489417    0.001\n",
>>>>>>> andriani
      "0.5671857595443726 0.0\n"
     ]
    },
    {
     "name": "stderr",
     "output_type": "stream",
     "text": [
      "C:\\Users\\trist\\anaconda3\\lib\\site-packages\\scipy\\stats\\morestats.py:1760: UserWarning: p-value may not be accurate for N > 5000.\n",
      "  warnings.warn(\"p-value may not be accurate for N > 5000.\")\n"
     ]
    },
    {
     "data": {
      "text/html": [
       "<div>\n",
       "<style scoped>\n",
       "    .dataframe tbody tr th:only-of-type {\n",
       "        vertical-align: middle;\n",
       "    }\n",
       "\n",
       "    .dataframe tbody tr th {\n",
       "        vertical-align: top;\n",
       "    }\n",
       "\n",
       "    .dataframe thead th {\n",
       "        text-align: right;\n",
       "    }\n",
       "</style>\n",
       "<table border=\"1\" class=\"dataframe\">\n",
       "  <thead>\n",
       "    <tr style=\"text-align: right;\">\n",
       "      <th></th>\n",
       "      <th>Parameter</th>\n",
       "      <th>Value</th>\n",
       "    </tr>\n",
       "  </thead>\n",
       "  <tbody>\n",
       "    <tr>\n",
       "      <th>0</th>\n",
       "      <td>Test statistics (W)</td>\n",
       "      <td>621.6985</td>\n",
       "    </tr>\n",
       "    <tr>\n",
       "      <th>1</th>\n",
       "      <td>Degrees of freedom (Df)</td>\n",
       "      <td>5.0000</td>\n",
       "    </tr>\n",
       "    <tr>\n",
       "      <th>2</th>\n",
       "      <td>p value</td>\n",
       "      <td>0.0000</td>\n",
       "    </tr>\n",
       "  </tbody>\n",
       "</table>\n",
       "</div>"
      ],
      "text/plain": [
       "                 Parameter     Value\n",
       "0      Test statistics (W)  621.6985\n",
       "1  Degrees of freedom (Df)    5.0000\n",
       "2                  p value    0.0000"
      ]
     },
<<<<<<< HEAD
     "execution_count": 29,
     "metadata": {},
     "output_type": "execute_result"
    },
    {
     "data": {
      "text/plain": [
       "<Figure size 432x288 with 0 Axes>"
      ]
     },
     "metadata": {},
     "output_type": "display_data"
=======
     "execution_count": 55,
     "metadata": {},
     "output_type": "execute_result"
>>>>>>> andriani
    }
   ],
   "source": [
    "### Mental Health \n",
<<<<<<< HEAD
    "# Ordinary Least Squares (OLS) model - ANOVA \n",
=======
    "# Ordinary Least Squares (OLS) model\n",
    "# Ordinary Least Squares (OLS) model\n",
>>>>>>> andriani
    "model = ols('MentHlth ~ C(Education) + C(HeartDiseaseorAttack) + C(Education):C(HeartDiseaseorAttack)',\n",
    "            data=original_df).fit()\n",
    "anova_table = sm.stats.anova_lm(model, typ=2)\n",
    "print(anova_table)\n",
    "\n",
    "# interaction plot \n",
    "from statsmodels.graphics.factorplots import interaction_plot\n",
    "fig = interaction_plot(x=original_df['Education'], trace=original_df['HeartDiseaseorAttack'],\n",
    "                       response=original_df['MentHlth'], \n",
<<<<<<< HEAD
    "                        colors=['g','b'])\n",
    "plt.title(\"Mean Mental health at increasing education levels for individuals with (1) and without (0) heart disease/attack\")\n",
    "plt.xlabel(\"Education level\")\n",
    "plt.ylabel(\"Mean Mental health (Bad Days/30)\")\n",
    "plt.grid()\n",
    "plt.show()\n",
    "plt.savefig(\"Mentalhealth.png\")\n",
    "# there is a statistical difference but where - tukey\n",
    "\n",
    "# Difference in mental health means based on education level\n",
    "res = stat()\n",
    "res.tukey_hsd(df=original_df, res_var='MentHlth', xfac_var='Education', anova_model='MentHlth ~ C(Education) + C(HeartDiseaseorAttack) + C(Education):C(HeartDiseaseorAttack)')\n",
    "print(len(res.tukey_summary))\n",
    "significant_differences = res.tukey_summary[res.tukey_summary[\"p-value\"] > 0.05]\n",
    "print(len(significant_differences))\n",
    "\n",
    "# Difference in mental health means between individuals with heart disease and not\n",
    "#tukey test\n",
    "res.tukey_hsd(df=original_df, res_var='MentHlth', xfac_var='HeartDiseaseorAttack', anova_model='MentHlth ~ C(Education) + C(HeartDiseaseorAttack) + C(Education):C(HeartDiseaseorAttack)')\n",
    "print(len(res.tukey_summary))\n",
    "significant_differences = res.tukey_summary[res.tukey_summary[\"p-value\"] > 0.05]\n",
    "print(len(significant_differences))\n",
=======
    "                        colors=['#4c061d','#d17a22'])\n",
    "plt.show()\n",
    "# there is a statistical difference but where - \n",
    "\n",
    "res = stat()\n",
    "res.tukey_hsd(df=original_df, res_var='MentHlth', xfac_var='Education', anova_model='MentHlth ~ C(Education) + C(HeartDiseaseorAttack) + C(Education):C(HeartDiseaseorAttack)')\n",
    "print(len(res.tukey_summary))\n",
    "significant_differences = res.tukey_summary[res.tukey_summary[\"p-value\"] < 0.05]\n",
    "print(significant_differences)\n",
    "\n",
    "\n",
    "res.tukey_hsd(df=original_df, res_var='MentHlth', xfac_var='HeartDiseaseorAttack', anova_model='MentHlth ~ C(Education) + C(HeartDiseaseorAttack) + C(Education):C(HeartDiseaseorAttack)')\n",
    "print(len(res.tukey_summary))\n",
    "significant_differences = res.tukey_summary[res.tukey_summary[\"p-value\"] < 0.05]\n",
    "print(significant_differences)\n",
>>>>>>> andriani
    "\n",
    "### interaction \n",
    "res.tukey_hsd(df=original_df, res_var='MentHlth', xfac_var=['HeartDiseaseorAttack','Education'] , anova_model='MentHlth ~ C(Education) + C(HeartDiseaseorAttack) + C(Education):C(HeartDiseaseorAttack)')\n",
    "print(len(res.tukey_summary))\n",
<<<<<<< HEAD
    "significant_differences = res.tukey_summary[res.tukey_summary[\"p-value\"] > 0.05]\n",
    "print(len(significant_differences))\n",
=======
    "significant_differences = res.tukey_summary[res.tukey_summary[\"p-value\"] < 0.05]\n",
    "print(significant_differences)\n",
>>>>>>> andriani
    "\n",
    "\n",
    "############ normality - shapiro wilks \n",
    "import scipy.stats as stats\n",
    "w, pvalue = stats.shapiro(model.resid)\n",
    "print(w, pvalue)\n",
    "\n",
    "############ homogeniety of variance - levenes\n",
    "res = stat()\n",
    "res.levene(df=original_df, res_var='MentHlth', xfac_var='Education')\n",
<<<<<<< HEAD
    "res.levene_summary\n",
    "\n",
    "### Large data set normality and homogeniety tests not valid "
=======
    "res.levene_summary"
>>>>>>> andriani
   ]
  },
  {
   "cell_type": "code",
   "execution_count": null,
   "metadata": {},
   "outputs": [],
   "source": []
  }
 ],
 "metadata": {
  "kernel_info": {
   "name": "python3"
  },
  "kernelspec": {
   "display_name": "Python 3 (ipykernel)",
   "language": "python",
   "name": "python3"
  },
  "language_info": {
   "codemirror_mode": {
    "name": "ipython",
    "version": 3
   },
   "file_extension": ".py",
   "mimetype": "text/x-python",
   "name": "python",
   "nbconvert_exporter": "python",
   "pygments_lexer": "ipython3",
   "version": "3.9.7"
  },
  "nteract": {
   "version": "0.2.0"
  }
 },
 "nbformat": 4,
 "nbformat_minor": 2
}
